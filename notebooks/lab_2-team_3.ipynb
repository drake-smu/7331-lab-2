{
 "cells": [
  {
   "cell_type": "code",
   "execution_count": 6,
   "metadata": {},
   "outputs": [],
   "source": [
    "# ms-python.python added\n",
    "import os\n",
    "try:\n",
    "\tos.chdir('~/7331-lab-2') \n",
    "\tprint(os.getcwd())\n",
    "except:\n",
    "\tpass\n"
   ]
  },
  {
   "cell_type": "markdown",
   "metadata": {},
   "source": [
    "  # Data Mining 7331 - Summer 2019\n",
    "  ## Lab 2 - Classification\n",
    "\n",
    "  ### Carson Drake, Che Cobb, David Josephs, Andy Heroy\n",
    "\n",
    "\n",
    " <a id=\"top\"></a>\n",
    " ## Table of Contents\n",
    " * <a href=\"#business\">Section 1: Business Understanding</a>\n",
    "   * <a href=\"#business1\">Section 1.1: Data Description</a>\n",
    "   * <a href=\"#business2\">Section 1.2: Data Potential</a>\n",
    " * <a href=\"#understanding\">Section 2: Data Understanding</a>\n",
    "   * <a href=\"#understanding1\">Section 2.1: Variable Description</a>\n",
    "   * <a href=\"#understanding2\">Section 2.2: Data Quality</a>\n",
    "   * <a href=\"#understanding3\">Section 2.3: Simple Statistics</a>\n",
    "   * <a href=\"#understanding4\">Section 2.4: Interesting Visualizations</a>\n",
    " * <a href=\"#preparation\">Section 3: Data Preparation</a>\n",
    "   * <a href=\"#preparation1\">Section 3.1:Part 1</a>\n",
    "   * <a href=\"#preparation2\">Section 3.2:Part 2</a>\n",
    " * <a href=\"#modeling\">Section 4: Modeling and Evaluation</a>\n",
    "   * <a href=\"#modeling1\">Section 4.1:Part 1</a>\n",
    "   * <a href=\"#modeling2\">Section 4.2:Part 2</a>\n",
    "   * <a href=\"#modeling3\">Section 4.3:Part 3</a>\n",
    "       * <a href=\"#modeling3_1\">Task 1:Classification 1</a>\n",
    "           * <a href=\"#modeling3_1_1\">Logistic Regression</a>\n",
    "           * <a href=\"#modeling3_1_2\">Random Forest</a>\n",
    "           * <a href=\"#modeling3_1_3\">KNN</a>\n",
    "       * <a href=\"#modeling3_2\">Task 2:Classification 2</a>\n",
    "           * <a href=\"#modeling3_2_1\">Logistic Regression</a>\n",
    "           * <a href=\"#modeling3_2_2\">Random Forest</a>\n",
    "           * <a href=\"#modeling3_2_3\">Naive Bayes</a>\n",
    "           * <a href=\"#modeling3_2_4\">Stochastic Gradient Descent:</a>\n",
    "   * <a href=\"#modeling4\">Section 4.4:Part 4</a>\n",
    "   * <a href=\"#modeling5\">Section 4.5:Part 5</a>\n",
    "   * <a href=\"#modeling6\">Section 4.6:Part 6</a>\n",
    "   * <a href=\"#deployment\">Section 4.7:Deployment</a>\n",
    "   * <a href=\"#exceptional\">Section 4.8:Exceptional Work</a>\n"
   ]
  },
  {
   "cell_type": "markdown",
   "metadata": {},
   "source": [
    " <a id=\"business\"></a> <a href=\"#top\">Back to Top</a>\n",
    "  ## Section 1: Business Understanding\n",
    " <a id=\"business1\"></a> <a href=\"#top\">Back to Top</a>\n",
    "  ### Section 1.1: Data Description\n",
    "\n",
    "  Describe the purpose of the data set you selected.\n",
    "  We chose this dataset from the UCI's machine learning repository for its categorical\n",
    "  predictive attributes.  It contains 1994 Census data pulled from the US Census\n",
    "  database.  The prediction task we've set forth is to predict if a persons\n",
    "  salary range is greater than 50k, based on the various categorical/numerical\n",
    "  attributes in the census database. The link to the data source is below:\n",
    "\n",
    "  https://archive.ics.uci.edu/ml/datasets/census+income\n",
    "\n",
    " <a id=\"business2\"></a> <a href=\"#top\">Back to Top</a>\n",
    "  ### Section 1.2: Data potential\n",
    "\n",
    "  Describe how you would define and measure the outcomes from the dataset.\n",
    "  (That is, why is this data important and how do you know if you have mined\n",
    "  useful knowledge from the dataset? How would you measure the effectiveness of\n",
    "  a good prediction algorithm? Be specific.)\n",
    "\n",
    "  The main benefit of this data is to be able to predict a persons salary range\n",
    "  based on factors collected around each worker in 1994.  With that insight, we\n",
    "  can look at a persons, age, education, marital status, occupation and begin to\n",
    "  explore the relationships that most influence income.  We'd like to find:\n",
    "    * What factors are the strongest influence of a how much many they will\n",
    "      make.\n",
    "    * What age groups show the largest amount of incomes over >50k?  aka, what\n",
    "      years of our life should we be working hardest in order to make the most\n",
    "      money.\n",
    "    * Does where you come from influence your income? (native country)"
   ]
  },
  {
   "cell_type": "markdown",
   "metadata": {},
   "source": [
    " <a id=\"understanding\"></a> <a href=\"#top\">Back to Top</a>\n",
    "  ## Section 2: Data Understanding\n",
    " <a id=\"understanding1\"></a> <a href=\"#top\">Back to Top</a>\n",
    "  ### Section 2.1: Variable Description\n",
    "\n",
    "  Describe the meaning and type of data for each attribute\n",
    "  Here we will discuss each attribute and give some description about its ranges.\n",
    "\n",
    "\n",
    "  Categorical - Description\n",
    "  #### Categorical Attributes\n",
    "  * workclass - Which business sector do they work in?\n",
    "  * education - What level of education received?\n",
    "  * marital_status - What is their marriage history\n",
    "  * occupation - What do they do for a living\n",
    "  * relationship - Family member relation\n",
    "  * race - What is the subjects race\n",
    "  * gender - What is the subjects gender\n",
    "  * native_country - Where is the subject originally from\n",
    "  * income_bracket - Do they make over or under 50k/year\n",
    "\n",
    "  #### Continuous Attributes\n",
    "  * age - How old is the subject?\n",
    "  * fnlwgt - Sampling weight of observation\n",
    "  * education_num - numerical encoding of education variable\n",
    "  * capital_gain - income from investment sources, separate from wages/salary\n",
    "  * capital_loss - losses from investment sources, separate from wages/salary\n",
    "  * hours_per_week - How many hours a week did they work?\n",
    "\n",
    "\n",
    " <a id=\"understanding2\"></a> <a href=\"#top\">Back to Top</a>\n",
    "  ### Section 2.2: Data Quality\n",
    "  Verify data quality: Explain any missing values, duplicate data, and outliers.\n",
    "  Are those mistakes? How do we deal with these problems?\n",
    "\n",
    "  In the next code section we will import our libraries and data, then begin looking at\n",
    "  missing data, duplicate data, and outliers."
   ]
  },
  {
   "cell_type": "code",
   "execution_count": 7,
   "metadata": {},
   "outputs": [],
   "source": [
    "# Add library references\n",
    "import pandas as pd\n",
    "import numpy as np\n",
    "import seaborn as sns\n",
    "#import plotly.plotly as py\n",
    "#import plotly.graph_objs as go\n",
    "import matplotlib.pyplot as plt\n",
    "import timeit\n",
    "get_ipython().run_line_magic('matplotlib', 'inline')\n",
    "\n",
    "\n"
   ]
  },
  {
   "cell_type": "code",
   "execution_count": 8,
   "metadata": {},
   "outputs": [
    {
     "data": {
      "text/html": [
       "<div>\n",
       "<style scoped>\n",
       "    .dataframe tbody tr th:only-of-type {\n",
       "        vertical-align: middle;\n",
       "    }\n",
       "\n",
       "    .dataframe tbody tr th {\n",
       "        vertical-align: top;\n",
       "    }\n",
       "\n",
       "    .dataframe thead th {\n",
       "        text-align: right;\n",
       "    }\n",
       "</style>\n",
       "<table border=\"1\" class=\"dataframe\">\n",
       "  <thead>\n",
       "    <tr style=\"text-align: right;\">\n",
       "      <th></th>\n",
       "      <th>age</th>\n",
       "      <th>workclass</th>\n",
       "      <th>fnlwgt</th>\n",
       "      <th>education</th>\n",
       "      <th>education_num</th>\n",
       "      <th>marital_status</th>\n",
       "      <th>occupation</th>\n",
       "      <th>relationship</th>\n",
       "      <th>race</th>\n",
       "      <th>gender</th>\n",
       "      <th>capital_gain</th>\n",
       "      <th>capital_loss</th>\n",
       "      <th>hours_per_week</th>\n",
       "      <th>native_country</th>\n",
       "      <th>income_bracket</th>\n",
       "    </tr>\n",
       "  </thead>\n",
       "  <tbody>\n",
       "    <tr>\n",
       "      <th>0</th>\n",
       "      <td>39</td>\n",
       "      <td>State-gov</td>\n",
       "      <td>77516</td>\n",
       "      <td>Bachelors</td>\n",
       "      <td>13</td>\n",
       "      <td>Never-married</td>\n",
       "      <td>Adm-clerical</td>\n",
       "      <td>Not-in-family</td>\n",
       "      <td>White</td>\n",
       "      <td>Male</td>\n",
       "      <td>2174</td>\n",
       "      <td>0</td>\n",
       "      <td>40</td>\n",
       "      <td>United-States</td>\n",
       "      <td>&lt;=50K</td>\n",
       "    </tr>\n",
       "    <tr>\n",
       "      <th>1</th>\n",
       "      <td>50</td>\n",
       "      <td>Self-emp-not-inc</td>\n",
       "      <td>83311</td>\n",
       "      <td>Bachelors</td>\n",
       "      <td>13</td>\n",
       "      <td>Married-civ-spouse</td>\n",
       "      <td>Exec-managerial</td>\n",
       "      <td>Husband</td>\n",
       "      <td>White</td>\n",
       "      <td>Male</td>\n",
       "      <td>0</td>\n",
       "      <td>0</td>\n",
       "      <td>13</td>\n",
       "      <td>United-States</td>\n",
       "      <td>&lt;=50K</td>\n",
       "    </tr>\n",
       "    <tr>\n",
       "      <th>2</th>\n",
       "      <td>38</td>\n",
       "      <td>Private</td>\n",
       "      <td>215646</td>\n",
       "      <td>HS-grad</td>\n",
       "      <td>9</td>\n",
       "      <td>Divorced</td>\n",
       "      <td>Handlers-cleaners</td>\n",
       "      <td>Not-in-family</td>\n",
       "      <td>White</td>\n",
       "      <td>Male</td>\n",
       "      <td>0</td>\n",
       "      <td>0</td>\n",
       "      <td>40</td>\n",
       "      <td>United-States</td>\n",
       "      <td>&lt;=50K</td>\n",
       "    </tr>\n",
       "    <tr>\n",
       "      <th>3</th>\n",
       "      <td>53</td>\n",
       "      <td>Private</td>\n",
       "      <td>234721</td>\n",
       "      <td>11th</td>\n",
       "      <td>7</td>\n",
       "      <td>Married-civ-spouse</td>\n",
       "      <td>Handlers-cleaners</td>\n",
       "      <td>Husband</td>\n",
       "      <td>Black</td>\n",
       "      <td>Male</td>\n",
       "      <td>0</td>\n",
       "      <td>0</td>\n",
       "      <td>40</td>\n",
       "      <td>United-States</td>\n",
       "      <td>&lt;=50K</td>\n",
       "    </tr>\n",
       "    <tr>\n",
       "      <th>4</th>\n",
       "      <td>28</td>\n",
       "      <td>Private</td>\n",
       "      <td>338409</td>\n",
       "      <td>Bachelors</td>\n",
       "      <td>13</td>\n",
       "      <td>Married-civ-spouse</td>\n",
       "      <td>Prof-specialty</td>\n",
       "      <td>Wife</td>\n",
       "      <td>Black</td>\n",
       "      <td>Female</td>\n",
       "      <td>0</td>\n",
       "      <td>0</td>\n",
       "      <td>40</td>\n",
       "      <td>Cuba</td>\n",
       "      <td>&lt;=50K</td>\n",
       "    </tr>\n",
       "    <tr>\n",
       "      <th>5</th>\n",
       "      <td>37</td>\n",
       "      <td>Private</td>\n",
       "      <td>284582</td>\n",
       "      <td>Masters</td>\n",
       "      <td>14</td>\n",
       "      <td>Married-civ-spouse</td>\n",
       "      <td>Exec-managerial</td>\n",
       "      <td>Wife</td>\n",
       "      <td>White</td>\n",
       "      <td>Female</td>\n",
       "      <td>0</td>\n",
       "      <td>0</td>\n",
       "      <td>40</td>\n",
       "      <td>United-States</td>\n",
       "      <td>&lt;=50K</td>\n",
       "    </tr>\n",
       "    <tr>\n",
       "      <th>6</th>\n",
       "      <td>49</td>\n",
       "      <td>Private</td>\n",
       "      <td>160187</td>\n",
       "      <td>9th</td>\n",
       "      <td>5</td>\n",
       "      <td>Married-spouse-absent</td>\n",
       "      <td>Other-service</td>\n",
       "      <td>Not-in-family</td>\n",
       "      <td>Black</td>\n",
       "      <td>Female</td>\n",
       "      <td>0</td>\n",
       "      <td>0</td>\n",
       "      <td>16</td>\n",
       "      <td>Jamaica</td>\n",
       "      <td>&lt;=50K</td>\n",
       "    </tr>\n",
       "    <tr>\n",
       "      <th>7</th>\n",
       "      <td>52</td>\n",
       "      <td>Self-emp-not-inc</td>\n",
       "      <td>209642</td>\n",
       "      <td>HS-grad</td>\n",
       "      <td>9</td>\n",
       "      <td>Married-civ-spouse</td>\n",
       "      <td>Exec-managerial</td>\n",
       "      <td>Husband</td>\n",
       "      <td>White</td>\n",
       "      <td>Male</td>\n",
       "      <td>0</td>\n",
       "      <td>0</td>\n",
       "      <td>45</td>\n",
       "      <td>United-States</td>\n",
       "      <td>&gt;50K</td>\n",
       "    </tr>\n",
       "    <tr>\n",
       "      <th>8</th>\n",
       "      <td>31</td>\n",
       "      <td>Private</td>\n",
       "      <td>45781</td>\n",
       "      <td>Masters</td>\n",
       "      <td>14</td>\n",
       "      <td>Never-married</td>\n",
       "      <td>Prof-specialty</td>\n",
       "      <td>Not-in-family</td>\n",
       "      <td>White</td>\n",
       "      <td>Female</td>\n",
       "      <td>14084</td>\n",
       "      <td>0</td>\n",
       "      <td>50</td>\n",
       "      <td>United-States</td>\n",
       "      <td>&gt;50K</td>\n",
       "    </tr>\n",
       "    <tr>\n",
       "      <th>9</th>\n",
       "      <td>42</td>\n",
       "      <td>Private</td>\n",
       "      <td>159449</td>\n",
       "      <td>Bachelors</td>\n",
       "      <td>13</td>\n",
       "      <td>Married-civ-spouse</td>\n",
       "      <td>Exec-managerial</td>\n",
       "      <td>Husband</td>\n",
       "      <td>White</td>\n",
       "      <td>Male</td>\n",
       "      <td>5178</td>\n",
       "      <td>0</td>\n",
       "      <td>40</td>\n",
       "      <td>United-States</td>\n",
       "      <td>&gt;50K</td>\n",
       "    </tr>\n",
       "  </tbody>\n",
       "</table>\n",
       "</div>"
      ],
      "text/plain": [
       "   age          workclass  fnlwgt   education  education_num  \\\n",
       "0   39          State-gov   77516   Bachelors             13   \n",
       "1   50   Self-emp-not-inc   83311   Bachelors             13   \n",
       "2   38            Private  215646     HS-grad              9   \n",
       "3   53            Private  234721        11th              7   \n",
       "4   28            Private  338409   Bachelors             13   \n",
       "5   37            Private  284582     Masters             14   \n",
       "6   49            Private  160187         9th              5   \n",
       "7   52   Self-emp-not-inc  209642     HS-grad              9   \n",
       "8   31            Private   45781     Masters             14   \n",
       "9   42            Private  159449   Bachelors             13   \n",
       "\n",
       "           marital_status          occupation    relationship    race  \\\n",
       "0           Never-married        Adm-clerical   Not-in-family   White   \n",
       "1      Married-civ-spouse     Exec-managerial         Husband   White   \n",
       "2                Divorced   Handlers-cleaners   Not-in-family   White   \n",
       "3      Married-civ-spouse   Handlers-cleaners         Husband   Black   \n",
       "4      Married-civ-spouse      Prof-specialty            Wife   Black   \n",
       "5      Married-civ-spouse     Exec-managerial            Wife   White   \n",
       "6   Married-spouse-absent       Other-service   Not-in-family   Black   \n",
       "7      Married-civ-spouse     Exec-managerial         Husband   White   \n",
       "8           Never-married      Prof-specialty   Not-in-family   White   \n",
       "9      Married-civ-spouse     Exec-managerial         Husband   White   \n",
       "\n",
       "    gender  capital_gain  capital_loss  hours_per_week  native_country  \\\n",
       "0     Male          2174             0              40   United-States   \n",
       "1     Male             0             0              13   United-States   \n",
       "2     Male             0             0              40   United-States   \n",
       "3     Male             0             0              40   United-States   \n",
       "4   Female             0             0              40            Cuba   \n",
       "5   Female             0             0              40   United-States   \n",
       "6   Female             0             0              16         Jamaica   \n",
       "7     Male             0             0              45   United-States   \n",
       "8   Female         14084             0              50   United-States   \n",
       "9     Male          5178             0              40   United-States   \n",
       "\n",
       "  income_bracket  \n",
       "0          <=50K  \n",
       "1          <=50K  \n",
       "2          <=50K  \n",
       "3          <=50K  \n",
       "4          <=50K  \n",
       "5          <=50K  \n",
       "6          <=50K  \n",
       "7           >50K  \n",
       "8           >50K  \n",
       "9           >50K  "
      ]
     },
     "execution_count": 8,
     "metadata": {},
     "output_type": "execute_result"
    }
   ],
   "source": [
    "df_headers = [\n",
    "    'age',\n",
    "    'workclass',\n",
    "    'fnlwgt',\n",
    "    'education',\n",
    "    'education_num',\n",
    "    'marital_status',\n",
    "    'occupation',\n",
    "    'relationship',\n",
    "    'race',\n",
    "    'gender',\n",
    "    'capital_gain',\n",
    "    'capital_loss',\n",
    "    'hours_per_week',\n",
    "    'native_country',\n",
    "    'income_bracket'\n",
    "]\n",
    "df_census = pd.read_csv(\"data/adult-training.csv\",\n",
    "    names=df_headers, \n",
    "    index_col=False)\n",
    "# Input in case we want to combine the dataframes. \n",
    "# df_test = pd.read_csv(\"data/adult-test.csv\",names = df_headers,skiprows=1)\n",
    "# df_census = pd.concat([df_test, df_census], axis=0)\n",
    "\n",
    "df_census.head(10)\n"
   ]
  },
  {
   "cell_type": "markdown",
   "metadata": {},
   "source": [
    "  First, we'll start with looking at the head of the table to get a\n",
    "  feel for overall structure and the variables that we're working with. Followed\n",
    "  by a count of any missing values within the dataset.  We see that our data has\n",
    "  no missing values which is great under most circumstances, but we also found\n",
    "  that instead of marking the data with an NA, they did so with a \"?.  Our first\n",
    "  order of business is to replace those values.  We found counts of ? values in\n",
    "  WorkClass, Occupation, and native country.  For now, we'll replace them with\n",
    "  \"Other\"\n",
    "\n"
   ]
  },
  {
   "cell_type": "code",
   "execution_count": 9,
   "metadata": {},
   "outputs": [
    {
     "name": "stdout",
     "output_type": "stream",
     "text": [
      "Structure of data:\n",
      " (32561, 15) \n",
      "\n",
      "Count of missing values:\n",
      " income_bracket    0\n",
      "native_country    0\n",
      "hours_per_week    0\n",
      "capital_loss      0\n",
      "capital_gain      0\n",
      "gender            0\n",
      "race              0\n",
      "relationship      0\n",
      "occupation        0\n",
      "marital_status    0\n",
      "education_num     0\n",
      "education         0\n",
      "fnlwgt            0\n",
      "workclass         0\n",
      "age               0\n",
      "dtype: int64 \n",
      "\n",
      "Count of ? values in workclass:  1836\n",
      "Count of ? values in occupation:  1843\n",
      "Count of ? values in native_country:  583\n"
     ]
    }
   ],
   "source": [
    "print(\"Structure of data:\\n\",df_census.shape,\"\\n\")\n",
    "print(\"Count of missing values:\\n\",df_census.isnull().sum().sort_values(ascending=False),\"\\n\")\n",
    "print(\"Count of ? values in workclass: \" ,df_census.loc[df_census.workclass == ' ?', 'workclass'].count())\n",
    "print(\"Count of ? values in occupation: \", df_census.loc[df_census.occupation == ' ?', 'occupation'].count())\n",
    "print(\"Count of ? values in native_country: \", df_census.loc[df_census.native_country == ' ?', 'native_country'].count())\n"
   ]
  },
  {
   "cell_type": "markdown",
   "metadata": {},
   "source": [
    "  While our missing values count is very low, we now must change\n",
    "  all the ? entries to other in order not cause further errors.  We'll also be\n",
    "  grouping each individual native country into their respective continent.  We\n",
    "  feel that grouping as such will give us more insight into how U.S. immigrants\n",
    "  fare in the job market.  We'll also introduce a pair plot to look in the\n",
    "  visualization section to look for any outliers.  Which spoiler alert, it\n",
    "  doesn't look like we have any that cause great concern."
   ]
  },
  {
   "cell_type": "code",
   "execution_count": 10,
   "metadata": {},
   "outputs": [],
   "source": [
    "# Change income bracket values that have a . at end and remove space \n",
    "df_census = df_census.replace(to_replace=(' >50K.', ' >50K'),value='>50K')\n",
    "df_census = df_census.replace(to_replace=(' <=50K.', ' <=50K'),value='<=50K')    \n",
    "df_census = df_census.replace(to_replace=(' United-States', ' Honduras', ' Mexico',' Puerto-Rico',' Canada', ' Outlying-US(Guam-USVI-etc)', ' Nicaragua', ' Guatemala', ' El-Salvador' ),value='North America')\n",
    "df_census = df_census.replace(to_replace=(' Cuba', ' Jamaica', ' Trinadad&Tobago', ' Haiti', ' Dominican-Republic' ),value='Caribbean')\n",
    "df_census = df_census.replace(to_replace=(' South', ' Cambodia',' Thailand',' Laos', ' Taiwan', ' China', ' Japan', ' India', ' Iran', ' Philippines', ' Vietnam', ' Hong'),value='Asia')\n",
    "df_census = df_census.replace(to_replace=(' England', ' Germany', ' Portugal', ' Italy', ' Poland', ' France', ' Yugoslavia',' Scotland', ' Greece', ' Ireland', ' Hungary', ' Holand-Netherlands'),value='Europe') \n",
    "df_census = df_census.replace(to_replace=(' Columbia', ' Ecuador', ' Peru'),value='South America')\n",
    "df_census = df_census.replace(to_replace=(' ?'),value='Other') \n",
    "\n",
    "# encoding into 1 and zero variables for income_bracket. \n",
    "# df_census['income_bracket'] = df_census['income_bracket'].apply(lambda x: 1 if x=='>50K' else 0)\n"
   ]
  },
  {
   "cell_type": "markdown",
   "metadata": {},
   "source": [
    " <a id=\"understanding3\"></a> <a href=\"#top\">Back to Top</a>\n",
    "  ### Section 2c: Simple Statistics\n",
    "\n",
    "  #### Visualize appropriate statistics (e.g., range, mode, mean, median, variance, counts) for a subset of attributes. Describe anything meaningful you found from this or if you found something potentially interesting.\n",
    "\n",
    "  Now that our data has been cleansed of any obvious errors, it's time to look at\n",
    "  the statistics behind our continuous data in order to look for any other\n",
    "  errors in the data we might have missed.  We also can get a look at how many\n",
    "  variables each of our categorical attributes carry with them.  This will be\n",
    "  useful down the line when we start grouping items for our basic EDA charts we\n",
    "  would like to produce."
   ]
  },
  {
   "cell_type": "code",
   "execution_count": 11,
   "metadata": {},
   "outputs": [
    {
     "name": "stdout",
     "output_type": "stream",
     "text": [
      "age\n",
      "  type: int64\n",
      "  # unique: 73\n",
      "\n",
      "workclass\n",
      "  type: object\n",
      "  # unique: 9\n",
      "\n",
      "fnlwgt\n",
      "  type: int64\n",
      "  # unique: 21648\n",
      "\n",
      "education\n",
      "  type: object\n",
      "  # unique: 16\n",
      "\n",
      "education_num\n",
      "  type: int64\n",
      "  # unique: 16\n",
      "\n",
      "marital_status\n",
      "  type: object\n",
      "  # unique: 7\n",
      "\n",
      "occupation\n",
      "  type: object\n",
      "  # unique: 15\n",
      "\n",
      "relationship\n",
      "  type: object\n",
      "  # unique: 6\n",
      "\n",
      "race\n",
      "  type: object\n",
      "  # unique: 5\n",
      "\n",
      "gender\n",
      "  type: object\n",
      "  # unique: 2\n",
      "\n",
      "capital_gain\n",
      "  type: int64\n",
      "  # unique: 119\n",
      "\n",
      "capital_loss\n",
      "  type: int64\n",
      "  # unique: 92\n",
      "\n",
      "hours_per_week\n",
      "  type: int64\n",
      "  # unique: 94\n",
      "\n",
      "native_country\n",
      "  type: object\n",
      "  # unique: 6\n",
      "\n",
      "income_bracket\n",
      "  type: object\n",
      "  # unique: 2\n",
      "\n",
      "Summary Statistic's:\n",
      " age             count      32561.00\n",
      "                mean          38.58\n",
      "                std           13.64\n",
      "                min           17.00\n",
      "                25%           28.00\n",
      "                50%           37.00\n",
      "                75%           48.00\n",
      "                max           90.00\n",
      "fnlwgt          count      32561.00\n",
      "                mean      189778.37\n",
      "                std       105549.98\n",
      "                min        12285.00\n",
      "                25%       117827.00\n",
      "                50%       178356.00\n",
      "                75%       237051.00\n",
      "                max      1484705.00\n",
      "education_num   count      32561.00\n",
      "                mean          10.08\n",
      "                std            2.57\n",
      "                min            1.00\n",
      "                25%            9.00\n",
      "                50%           10.00\n",
      "                75%           12.00\n",
      "                max           16.00\n",
      "capital_gain    count      32561.00\n",
      "                mean        1077.65\n",
      "                std         7385.29\n",
      "                min            0.00\n",
      "                25%            0.00\n",
      "                50%            0.00\n",
      "                75%            0.00\n",
      "                max        99999.00\n",
      "capital_loss    count      32561.00\n",
      "                mean          87.30\n",
      "                std          402.96\n",
      "                min            0.00\n",
      "                25%            0.00\n",
      "                50%            0.00\n",
      "                75%            0.00\n",
      "                max         4356.00\n",
      "hours_per_week  count      32561.00\n",
      "                mean          40.44\n",
      "                std           12.35\n",
      "                min            1.00\n",
      "                25%           40.00\n",
      "                50%           40.00\n",
      "                75%           45.00\n",
      "                max           99.00\n",
      "dtype: float64 \n",
      "\n"
     ]
    }
   ],
   "source": [
    "for i in df_headers:\n",
    "    \n",
    "    print(i, \n",
    "    \"type: {}\".format(df_census[i].dtype),\n",
    "    \"# unique: {}\".format(df_census[i].nunique()),\n",
    "    sep=\"\\n  \", end=\"\\n\\n\")\n",
    "    \n",
    "print(\"Summary Statistic's:\\n\",round(df_census.describe().unstack(),2),\"\\n\")\n",
    "\n",
    "\n"
   ]
  },
  {
   "cell_type": "code",
   "execution_count": 12,
   "metadata": {},
   "outputs": [
    {
     "name": "stdout",
     "output_type": "stream",
     "text": [
      "gender          Female   Male\n",
      "education                    \n",
      " 10th              295    638\n",
      " 11th              432    743\n",
      " 12th              144    289\n",
      " 1st-4th            46    122\n",
      " 5th-6th            84    249\n",
      " 7th-8th           160    486\n",
      " 9th               144    370\n",
      " Assoc-acdm        421    646\n",
      " Assoc-voc         500    882\n",
      " Bachelors        1619   3736\n",
      " Doctorate          86    327\n",
      " HS-grad          3390   7111\n",
      " Masters           536   1187\n",
      " Preschool          16     35\n",
      " Prof-school        92    484\n",
      " Some-college     2806   4485\n"
     ]
    }
   ],
   "source": [
    "education_categories = list(df_census.education.unique())\n",
    "print(df_census.groupby(['education','gender'])['gender'].count().unstack())\n",
    "\n"
   ]
  },
  {
   "cell_type": "code",
   "execution_count": 13,
   "metadata": {},
   "outputs": [
    {
     "name": "stdout",
     "output_type": "stream",
     "text": [
      "income_bracket   <=50K    >50K\n",
      "education                     \n",
      " 10th            871.0    62.0\n",
      " 11th           1115.0    60.0\n",
      " 12th            400.0    33.0\n",
      " 1st-4th         162.0     6.0\n",
      " 5th-6th         317.0    16.0\n",
      " 7th-8th         606.0    40.0\n",
      " 9th             487.0    27.0\n",
      " Assoc-acdm      802.0   265.0\n",
      " Assoc-voc      1021.0   361.0\n",
      " Bachelors      3134.0  2221.0\n",
      " Doctorate       107.0   306.0\n",
      " HS-grad        8826.0  1675.0\n",
      " Masters         764.0   959.0\n",
      " Preschool        51.0     NaN\n",
      " Prof-school     153.0   423.0\n",
      " Some-college   5904.0  1387.0\n",
      "\n",
      "income_bracket  <=50K  >50K\n",
      "gender                     \n",
      " Female          9592  1179\n",
      " Male           15128  6662\n",
      "\n",
      "income_bracket       <=50K  >50K\n",
      "race                            \n",
      " Amer-Indian-Eskimo    275    36\n",
      " Asian-Pac-Islander    763   276\n",
      " Black                2737   387\n",
      " Other                 246    25\n",
      " White               20699  7117\n",
      "\n",
      "income_bracket          <=50K  >50K\n",
      "marital_status                     \n",
      " Divorced                3980   463\n",
      " Married-AF-spouse         13    10\n",
      " Married-civ-spouse      8284  6692\n",
      " Married-spouse-absent    384    34\n",
      " Never-married          10192   491\n",
      " Separated                959    66\n",
      " Widowed                  908    85\n",
      "\n",
      "income_bracket   <=50K  >50K\n",
      "relationship                \n",
      " Husband          7275  5918\n",
      " Not-in-family    7449   856\n",
      " Other-relative    944    37\n",
      " Own-child        5001    67\n",
      " Unmarried        3228   218\n",
      " Wife              823   745\n",
      "\n",
      "income_bracket  <=50K  >50K\n",
      "native_country             \n",
      "Asia              529   222\n",
      "Caribbean         266    43\n",
      "Europe            369   152\n",
      "North America   23009  7270\n",
      "Other             437   146\n",
      "South America     110     8\n",
      "\n",
      "income_bracket       <=50K    >50K\n",
      "workclass                         \n",
      " Federal-gov         589.0   371.0\n",
      " Local-gov          1476.0   617.0\n",
      " Never-worked          7.0     NaN\n",
      " Private           17733.0  4963.0\n",
      " Self-emp-inc        494.0   622.0\n",
      " Self-emp-not-inc   1817.0   724.0\n",
      " State-gov           945.0   353.0\n",
      " Without-pay          14.0     NaN\n",
      "Other               1645.0   191.0\n",
      "\n"
     ]
    }
   ],
   "source": [
    "secondary = [\n",
    "    'education',\n",
    "    'gender',\n",
    "    'race',\n",
    "    'marital_status',\n",
    "    'relationship',\n",
    "    'native_country',\n",
    "    'workclass'\n",
    "    ]\n",
    "for i in secondary:\n",
    "    print(df_census.groupby([i,'income_bracket'])[i].count().unstack(), end=\"\\n\\n\")\n",
    "\n"
   ]
  },
  {
   "cell_type": "markdown",
   "metadata": {},
   "source": [
    " the categories that we've analyzed.  One category of capital_gain has some\n",
    " very large numbers, but we might attribute that to massive investments made by\n",
    " one individual.  After exploring further, alot of the values are 99,999. Which\n",
    " we assume to be a cap on what's reported for capital gains.  We did find that\n",
    " most of the occupations showing such capital growth was mostly executives.  So\n",
    " we're not surprised to see the higher numbers here and won't change the data.\n",
    "\n",
    " We also wanted to get a look at some of the educational categories by gender\n",
    " and income bracket to look for interesting statistics there.  We noticed that\n",
    " males tend to have more education across all education levels.  We also found that\n",
    " when looking at income bracket and education, a bachelors degree doesn't put\n",
    " you in a better place to make over 50k a year.  In fact, the only categories\n",
    " that did have a higher count in the >50k income bracket were Doctorate,\n",
    " Masters, or a professional school."
   ]
  },
  {
   "cell_type": "markdown",
   "metadata": {},
   "source": [
    "\n",
    " <a id=\"understanding4\"></a> <a href=\"#top\">Back to Top</a>\n",
    "  ### Section 2d: Interesting Visualizations\n",
    "\n",
    "  #### Visualize the most interesting attributes (at least 5 attributes, your opinion on what is interesting). Important: Interpret the implications for each visualization. Explain for each attribute why the chosen visualization is appropriate.\n",
    "\n",
    "  Now we can start analyzing different attributes to see if anything stands out\n",
    "  to us.  To start we'll begin with some histograms of the numerical attributes\n",
    "  in order to look at the ranges again and check for skew.  We'll also look at\n",
    "  some box plots of gender and marital status to continue our exploration into\n",
    "  those categories."
   ]
  },
  {
   "cell_type": "code",
   "execution_count": 14,
   "metadata": {},
   "outputs": [
    {
     "data": {
      "text/plain": [
       "array([[<matplotlib.axes._subplots.AxesSubplot object at 0x7f1c28e90828>,\n",
       "        <matplotlib.axes._subplots.AxesSubplot object at 0x7f1c26e1d4a8>],\n",
       "       [<matplotlib.axes._subplots.AxesSubplot object at 0x7f1c26dc3cf8>,\n",
       "        <matplotlib.axes._subplots.AxesSubplot object at 0x7f1c26df06a0>],\n",
       "       [<matplotlib.axes._subplots.AxesSubplot object at 0x7f1c26d9e048>,\n",
       "        <matplotlib.axes._subplots.AxesSubplot object at 0x7f1c26d42940>]],\n",
       "      dtype=object)"
      ]
     },
     "execution_count": 14,
     "metadata": {},
     "output_type": "execute_result"
    },
    {
     "data": {
      "image/png": "[encoded data removed]",
      "text/plain": [
       "<Figure size 1008x864 with 6 Axes>"
      ]
     },
     "metadata": {},
     "output_type": "display_data"
    }
   ],
   "source": [
    "#Histogram charts\n",
    "sns.set_style('whitegrid')\n",
    "df_num = df_census.select_dtypes(include=['float64'])\n",
    "df_census.hist(figsize =(14,12))\n",
    "\n"
   ]
  },
  {
   "cell_type": "markdown",
   "metadata": {},
   "source": [
    "  The histograms show us all things we expect to see from the\n",
    "  numerical categories.  Most of the workforce is from 20 to 50.  Educational\n",
    "  lidsmitations look to have the largest difference between 8th - 9th grade.\n",
    "  Implying that high school drop out rates are a factor in the dataset.   Hours\n",
    "  per week also exhibited a large distribution around 40 hours a week, which\n",
    "  fits common conception of American work hours.  fnl weight also showed some\n",
    "  strange values in the upper ranges of the dataset, but seeing as its not\n",
    "  going to be an area of focus for this analysis, we'll omit any changes here."
   ]
  },
  {
   "cell_type": "code",
   "execution_count": 15,
   "metadata": {},
   "outputs": [
    {
     "data": {
      "text/plain": [
       "<matplotlib.axes._subplots.AxesSubplot at 0x7f1c214287b8>"
      ]
     },
     "execution_count": 15,
     "metadata": {},
     "output_type": "execute_result"
    },
    {
     "data": {
      "image/png": "[encoded data removed]",
      "text/plain": [
       "<Figure size 432x288 with 1 Axes>"
      ]
     },
     "metadata": {},
     "output_type": "display_data"
    }
   ],
   "source": [
    "## boxplots of income by gender dist.\n",
    "sns.set_style('whitegrid')\n",
    "sns.countplot(x='income_bracket',\n",
    "    hue='gender',\n",
    "    data=df_census,\n",
    "    palette='RdBu_r')\n"
   ]
  },
  {
   "cell_type": "markdown",
   "metadata": {},
   "source": [
    "  This bar chart shows us the differences in male and female income based on\n",
    "  gender.  We see counts are much higher in both income brackets for males.\n",
    "  Suggesting that in 1994, the American workforce sampled had more men than\n",
    "  women in the workforce.  In the >50k income bracket, males showed an even\n",
    "  higher difference between their female counterparts, suggesting that males\n",
    "  dominate that income bracket more so than those in the <=50 income bracket.\n"
   ]
  },
  {
   "cell_type": "code",
   "execution_count": 16,
   "metadata": {},
   "outputs": [
    {
     "data": {
      "text/plain": [
       "<matplotlib.axes._subplots.AxesSubplot at 0x7f1c2131ebe0>"
      ]
     },
     "execution_count": 16,
     "metadata": {},
     "output_type": "execute_result"
    },
    {
     "data": {
      "image/png": "[encoded data removed]",
      "text/plain": [
       "<Figure size 432x288 with 1 Axes>"
      ]
     },
     "metadata": {},
     "output_type": "display_data"
    }
   ],
   "source": [
    "## by marital status\n",
    "sns.set_style('whitegrid')\n",
    "sns.countplot(x='income_bracket',\n",
    "    hue='marital_status',\n",
    "    data=df_census,\n",
    "    palette='RdBu_r')\n"
   ]
  },
  {
   "cell_type": "markdown",
   "metadata": {},
   "source": [
    "\n",
    "  This bar chart represents income bracket by marital status. Interesting to\n",
    "  see a few things, first off the <=50k income bracket highest counts come from\n",
    "  the \"Never-married\" status.  This suggests that marriage does in fact come\n",
    "  with alot of financial benefit, as you can see is relevant on the other half\n",
    "  of the chart.  As married couples far outmatch any other category counts in\n",
    "  the >50k income bracket.  We can confirm this again as most of the divorced,\n",
    "  separated, or widowed people are located in the lower income bracket.\n",
    "  Suggesting that, if you want to make over 50k, you might want to get yourself\n",
    "  a partner and keep them! For our next chart, Lets split up the age groups in\n",
    "  bins of 10 years, and see what kind of income differences we see.\n"
   ]
  },
  {
   "cell_type": "code",
   "execution_count": 17,
   "metadata": {},
   "outputs": [
    {
     "data": {
      "text/plain": [
       "<matplotlib.axes._subplots.AxesSubplot at 0x7f1c2108e9b0>"
      ]
     },
     "execution_count": 17,
     "metadata": {},
     "output_type": "execute_result"
    },
    {
     "data": {
      "image/png": "[encoded data removed]",
      "text/plain": [
       "<Figure size 432x288 with 1 Axes>"
      ]
     },
     "metadata": {},
     "output_type": "display_data"
    }
   ],
   "source": [
    "df_age = df_census.loc[:,['gender', 'age', 'income_bracket', 'hours_per_week']]\n",
    "conditions = [\n",
    "    (df_age['age'] < 20),\n",
    "    (df_age['age'] < 30),\n",
    "    (df_age['age'] < 40),\n",
    "    (df_age['age'] < 50),\n",
    "    (df_age['age'] < 60),\n",
    "    (df_age['age'] < 70),\n",
    "    (df_age['age'] < 110)]\n",
    "choices = ['10-20', '20-30', '30-40','40-50','50-60','60-70','70-110']\n",
    "df_age['age_group'] = np.select(conditions, choices, default='70-110')\n",
    "\n",
    "sns.set_style('whitegrid')\n",
    "sns.countplot(x='age_group',\n",
    "    hue='income_bracket',\n",
    "    data=df_age,\n",
    "    palette='RdBu_r',\n",
    "    order=choices)\n"
   ]
  },
  {
   "cell_type": "markdown",
   "metadata": {},
   "source": [
    "\n",
    "  The first thing we're drawn too is that not many 10-20 year olds are making\n",
    "  over 50k!  What a surprise.  Its interesting how the two income groups tend\n",
    "  to converge once age groups get to the 40-50 range, but then both steadily\n",
    "  decline afterwards.  This follows suit with the average retirement age in\n",
    "  America of 62 years old.  But the largest jump in those in the >50k group\n",
    "  looks to happen around age 30 to 40.  Suggesting that if you're not clearing\n",
    "  that mark by 40, then chances are its going to get a harder to do so from\n",
    "  then on. Next we'll, analyze means of hours worked per the\n",
    "  education category."
   ]
  },
  {
   "cell_type": "code",
   "execution_count": 18,
   "metadata": {},
   "outputs": [
    {
     "data": {
      "image/png": "[encoded data removed]",
      "text/plain": [
       "<Figure size 800x800 with 1 Axes>"
      ]
     },
     "metadata": {},
     "output_type": "display_data"
    }
   ],
   "source": [
    "\n",
    "df = df_census[['hours_per_week', 'education','education_num']].groupby('education').apply(lambda x: x.mean())\n",
    "df.sort_values('education_num', inplace=True)\n",
    "df.reset_index(inplace=True)\n",
    "\n",
    "# Draw plot\n",
    "fig, ax = plt.subplots(figsize=(10,10), dpi= 80)\n",
    "ax.hlines(y=df.index, xmin=30, xmax=50, color='gray', alpha=0.7, linewidth=1, linestyles='dashdot')\n",
    "ax.scatter(y=df.index, x=df.hours_per_week, s=75, color='firebrick', alpha=0.7)\n",
    "\n",
    "# Title, Label, Ticks and Ylim\n",
    "ax.set_title('Dot Plot for hours per week by education level', fontdict={'size':22})\n",
    "ax.set_xlabel('hours per week')\n",
    "ax.set_yticks(df.index)\n",
    "ax.set_yticklabels(df.education.str.title(), fontdict={'horizontalalignment': 'right'})\n",
    "ax.set_xlim(30, 50)\n",
    "plt.show()\n"
   ]
  },
  {
   "cell_type": "markdown",
   "metadata": {},
   "source": [
    "\n",
    " <a id=\"preparation\"></a> <a href=\"#top\">Back to Top</a>\n",
    " ## Section 3: Data Preparation:Part 1\n",
    "\n",
    " <a id=\"preparation1\"></a> <a href=\"#top\">Back to Top</a>\n",
    " ### Section 3.1 Part 1:\n",
    "\n",
    " Define and prepare your class variables. Use proper variable representations\n",
    " (int, float, one-hot, etc.). Use pre-processing methods (as needed) for\n",
    " dimensionality reduction, scaling, etc. Remove variables that are not\n",
    " needed/useful for the analysis.\n",
    "\n",
    " We've built a seperate py file that does all the pre-processing and will\n",
    " automatically clean and generate our dataframes for classification.  We will\n",
    " import it as lab_db from the dataBuilding py file.  It has all the necessary\n",
    " functions in order to build our data frames to be analyzed in the modeling\n",
    " section below.  Below is a list of the basic data cleaning and variable\n",
    " manipulation\n",
    "\n",
    " ### Data Specific cleaning\n",
    " 1.  Reduced education levels to 3 levels of No Diploma, Associates, and Diploma\n",
    " 2.  stripped any spaces off the leading or trailing characters\n",
    " 3.  Segmented country of origin to continent\n",
    " 4.  Encode the income_bracket target as binary\n",
    "\n",
    "\n",
    " ### Preprocessing\n",
    " For the continous variables, we will impute the median for any missing values\n",
    " and then use the StandardScaler to scale all the value's to a normalized\n",
    " range. Categorical attributes are transformed via sklearns \"OneHotEncoder.\"\n",
    " This functions assigns a binary column to each category for every attribute.\n",
    " Currently we've set it to ignore any unknown variables ie - missing value's.\n",
    "\n",
    " Our data cleaning and encoding scripts are shown in the next cell:\n"
   ]
  },
  {
   "cell_type": "code",
   "execution_count": null,
   "metadata": {},
   "outputs": [],
   "source": [
    "# %load analysis/dataBuilding.py\n",
    "\n",
    "import pandas as pd\n",
    "import numpy as np\n",
    "import seaborn as sns\n",
    "import timeit\n",
    "\n",
    "from sklearn.pipeline import make_pipeline, Pipeline\n",
    "from sklearn.impute import SimpleImputer\n",
    "from sklearn.compose import ColumnTransformer, make_column_transformer\n",
    "from sklearn.preprocessing import StandardScaler, OneHotEncoder\n",
    "from sklearn.model_selection import cross_val_score, train_test_split\n",
    "\n",
    "# Set Defaults\n",
    "df_headers = [\n",
    "    'age',\n",
    "    'workclass',\n",
    "    'fnlwgt',\n",
    "    'education',\n",
    "    'education_num',\n",
    "    'marital_status',\n",
    "    'occupation',\n",
    "    'relationship',\n",
    "    'race',\n",
    "    'gender',\n",
    "    'capital_gain',\n",
    "    'capital_loss',\n",
    "    'hours_per_week',\n",
    "    'native_country',\n",
    "    'income_bracket'\n",
    "]\n",
    "cat_cols = [\n",
    "    \"workclass\",\n",
    "    \"marital_status\", \n",
    "    \"occupation\",\n",
    "    \"race\", \n",
    "    \"gender\",\n",
    "    \"relationship\",\n",
    "    \"education\",\n",
    "    \"native_country\"]\n",
    "\n",
    "cont_cols = [\n",
    "    \"age\", \n",
    "    \"education_num\",\n",
    "    \"capital_gain\",\n",
    "    \"capital_loss\",\n",
    "    \"hours_per_week\"]\n",
    "\n",
    "cat_cols2 = [\n",
    "    \"workclass\",\n",
    "    \"marital_status\", \n",
    "    \"occupation\",\n",
    "    \"race\",\n",
    "    \"relationship\",\n",
    "    \"education\",\n",
    "    \"native_country\",\n",
    "    \"income_bracket\"]\n",
    "\n",
    "cont_cols2 = [\n",
    "    \"age\", \n",
    "    \"education_num\",\n",
    "    \"capital_gain\",\n",
    "    \"capital_loss\",\n",
    "    \"hours_per_week\"]\n",
    "\n",
    "drop_cols =[]\n",
    "# drop_cols = [\n",
    "#     'fnlwgt',\n",
    "#     \"native_country\",\n",
    "#     \"education\"]\n",
    "\n",
    "target_col = \"target\"\n",
    "\n",
    "\n",
    "\n",
    "def fetch_df():\n",
    "    \"\"\"Fetch raw unprocessed data from csv's\n",
    "    \n",
    "    Returns:\n",
    "        dataframe -- returns concatenated dataframe of all data. \n",
    "        split how you like later\n",
    "    \"\"\"\n",
    "    df_training = pd.read_csv(\"data/adult-training.csv\",\n",
    "        names=df_headers, \n",
    "        skipinitialspace = True)\n",
    "\n",
    "    df_test = pd.read_csv(\"data/adult-test.csv\",\n",
    "        names = df_headers,\n",
    "        skipinitialspace = True,\n",
    "        skiprows=1)\n",
    "\n",
    "    df = pd.concat([df_training,df_test],axis=0)\n",
    "    # df.info()\n",
    "    return df\n",
    "\n",
    "def process_target(df,target_col=target_col):\n",
    "    df[target_col] = (df[\"income_bracket\"]\n",
    "        .apply(lambda x: \">50K\" in x)).astype(int)\n",
    "    return df\n",
    "\n",
    "def process_target2(df,target_col=target_col):\n",
    "    df[target_col] = (df[\"gender\"]\n",
    "        .apply(lambda x: \"Male\" in x)).astype(int)\n",
    "    return df\n",
    "\n",
    "def process_drops(df, cols):\n",
    "    return df.drop(cols,axis=1,inplace=True)\n",
    "\n",
    "\n",
    "####################\n",
    "## Data Specific\n",
    "####################\n",
    "\n",
    "def process_edu(df):\n",
    "    replace_edu_no = ('1st-4th', '5th-6th','7th-8th','9th', '10th', '11th', '12th', 'Preschool')\n",
    "    replace_edu_associate = ('Assoc-acdm', 'Assoc-voc')\n",
    "    replace_edu_diploma = ('Some-college', 'HS-grad')\n",
    "\n",
    "    df.education = df.education.replace(to_replace=replace_edu_no,value='No Diploma')\n",
    "    df.education = df.education.replace(to_replace=replace_edu_associate,value='Associates')\n",
    "    df.education = df.education.replace(to_replace=replace_edu_diploma,value='Diploma')\n",
    "    return df['education'].str.strip()\n",
    "\n",
    "def process_native(df):\n",
    "    # Put countries in their native region continent\n",
    "    replace_northA = ('United-States', 'Honduras', 'Mexico','Puerto-Rico','Canada', 'Outlying-US(Guam-USVI-etc)', 'Nicaragua', 'Guatemala', 'El-Salvador')\n",
    "    replace_carib = ('Cuba', 'Jamaica', 'Trinadad&Tobago', 'Haiti', 'Dominican-Republic')\n",
    "    replace_asia = ('South', 'Cambodia','Thailand','Laos', 'Taiwan', 'China', 'Japan', 'India', 'Iran', 'Philippines', 'Vietnam', 'Hong')\n",
    "    replace_europe = ('England', 'Germany', 'Portugal', 'Italy', 'Poland', 'France', 'Yugoslavia','Scotland', 'Greece', 'Ireland', 'Hungary', 'Holand-Netherlands')\n",
    "    replace_sa = ('Columbia', 'Ecuador', 'Peru')\n",
    "    replace_other = ('?')\n",
    "    df.native_country = df.native_country.replace(to_replace=replace_northA,value='North America')\n",
    "    df.native_country = df.native_country.replace(to_replace=replace_northA,value='North America')\n",
    "    df.native_country = df.native_country.replace(to_replace=replace_carib,value='Caribbean')\n",
    "    df.native_country = df.native_country.replace(to_replace=replace_asia,value='Asia')\n",
    "    df.native_country = df.native_country.replace(to_replace=replace_europe,value='Europe') \n",
    "    df.native_country = df.native_country.replace(to_replace=replace_sa,value='South America')\n",
    "    df.native_country = df.native_country.replace(to_replace=replace_other,value='Other')   \n",
    "    return df\n",
    "\n",
    "##### END DATA SPECIFIC #########\n",
    "\n",
    "################################\n",
    "## Scaling and Encoding Data \n",
    "################################\n",
    "\n",
    "def build_preprocessor(cont_cols,cat_cols):\n",
    "    numeric_transformer = Pipeline(steps=[\n",
    "        ('imputer', SimpleImputer(strategy='median')),\n",
    "        ('scaler', StandardScaler())])\n",
    "    categorical_transformer = Pipeline(steps=[\n",
    "        ('onehot', OneHotEncoder(handle_unknown='ignore',sparse=False))])\n",
    "    \n",
    "    preprocessor = ColumnTransformer(\n",
    "        transformers=[\n",
    "            ('num', numeric_transformer, cont_cols),\n",
    "            ('cat', categorical_transformer, cat_cols)])\n",
    "    return ('preprocessor',preprocessor)\n",
    "\n",
    "\n",
    "def build_transform(cont_cols,cat_cols):\n",
    "    return build_preprocessor(cont_cols,cat_cols)\n",
    "\n",
    "##### END SACALING AND ENCODING #######\n",
    "\n",
    "def split_df(X,y,split=0.2):\n",
    "    X_train, X_test, y_train, y_test = train_test_split(X, y, test_size=split)\n",
    "    return X_train, X_test, y_train, y_test\n",
    "\n",
    "def build_df(drops=None):\n",
    "    df = fetch_df()\n",
    "    process_target(df, target_col=target_col)\n",
    "    process_edu(df)\n",
    "    process_native(df)\n",
    "    process_drops(df,drops)\n",
    "    X = df.drop(columns=[\"income_bracket\",target_col])\n",
    "    y = df[target_col]\n",
    "    \n",
    "    return X,y\n",
    "\n",
    "def build_df2(drops=None):\n",
    "    df = fetch_df()\n",
    "    process_target2(df, target_col=target_col)\n",
    "    process_edu(df)\n",
    "    process_native(df)\n",
    "    process_drops(df,drops)\n",
    "    X = df.drop(columns=[\"gender\",target_col])\n",
    "    y = df[target_col]\n",
    "    \n",
    "    return X,y"
   ]
  },
  {
   "cell_type": "code",
   "execution_count": 20,
   "metadata": {},
   "outputs": [],
   "source": [
    "# Data Import\n",
    "#\n",
    "from analysis import dataBuilding as lab_db\n",
    "\n",
    "# Assign Default Vales for Columns\n",
    "cat_cols,cont_cols,drop_cols = lab_db.cat_cols,lab_db.cont_cols,lab_db.drop_cols\n",
    "\n",
    "# Drop Columns (if any)\n",
    "X,y = lab_db.build_df(drop_cols)\n",
    "\n",
    "# Transform continuous cols to scaled versions\n",
    "# Transform categorical cols to Encoded Cols\n",
    "trans = lab_db.build_transform(cont_cols,cat_cols)\n"
   ]
  },
  {
   "cell_type": "code",
   "execution_count": 21,
   "metadata": {},
   "outputs": [],
   "source": [
    "# Execute Transforms specified above on all X data\n",
    "X_processed = trans[1].fit_transform(X)\n",
    "enc_headers = trans[1].named_transformers_['cat'].named_steps['onehot'].get_feature_names()\n",
    "new_headers = np.concatenate((cont_cols,enc_headers))"
   ]
  },
  {
   "cell_type": "code",
   "execution_count": 22,
   "metadata": {},
   "outputs": [],
   "source": [
    "# Split processed X data into training and test sets.\n",
    "# Also separate y (label) data into training and test sets.\n",
    "X_train, X_test, y_train, y_test = lab_db.split_df(X_processed,y,0.2)\n",
    "\n",
    "\n"
   ]
  },
  {
   "cell_type": "markdown",
   "metadata": {},
   "source": [
    "\n",
    " <a id=\"preparation2\"></a> <a href=\"#top\">Back to Top</a>\n",
    " ### Section 3.2 Part 2:\n",
    "\n",
    " Describe the final dataset that is used for classification/regression (include\n",
    " a description of any newly formed variables you created).\n",
    "\n",
    "\n",
    " Our final dataset shape"
   ]
  },
  {
   "cell_type": "code",
   "execution_count": 23,
   "metadata": {},
   "outputs": [
    {
     "name": "stdout",
     "output_type": "stream",
     "text": [
      "Number of observations in the training data: 39073\n",
      "Number of observations in the test data: 9769\n"
     ]
    }
   ],
   "source": [
    "print('Number of observations in the training data:', len(X_train))\n",
    "print('Number of observations in the test data:',len(X_test))\n",
    "#\n",
    "# For the final shape of our dataset with the split, we have 39073 instances and\n",
    "# 62 attributes.  The added attributes come from the one hot encoding that\n",
    "# splits the categories in to their own binary response for faster code\n",
    "# excecution.  \n",
    "#\n"
   ]
  },
  {
   "cell_type": "markdown",
   "metadata": {},
   "source": [
    "\n",
    " <a id=\"modeling\"></a> <a href=\"#top\">Back to Top</a>\n",
    " ## Section 4: Modeling and Evaluation:\n",
    "\n",
    "\n",
    " <a id=\"modeling1\"></a> <a href=\"#top\">Back to Top</a>\n",
    " ### Section 4.1 Part 1:\n",
    "\n",
    " Choose and explain your evaluation metrics that you will use (i.e., accuracy,\n",
    " precision, recall, F-measure, or any metric we have discussed). Why are the\n",
    " measure(s) appropriate for analyzing the results of your modeling? Give a\n",
    " detailed explanation backing up any assertions.\n",
    "\n",
    "\n",
    " Lets take the time to explain some of the precision outputs.\n",
    " * precision - this is the ratio of the number of true positives and false\n",
    "   positives.\n",
    " * recall - this is the ratio of the number of true positives and false\n",
    "   negatives\n",
    " * f1-score - the harmonic mean of the precision and recall.\n",
    " * support - occurances in each class\n",
    " * accuracy - count of predictions where the predicted value equals the actual\n",
    "   value\n",
    " * Log Loss - the negative log-likelihood of correct classification given the\n",
    "   classifier prediction.\n",
    "\n",
    "\n",
    " We settled on accuracy and F-1 score as our two metrics for tracking\n",
    " performance. Accuracy is a desired metric for classification as you're always\n",
    " trying to improve your models ability to predict. F1-Score is a balanced\n",
    " mean between precision and recall. Our initial analysis shows we still have a\n",
    " fair amount of false positives showing an uneven balanced class, which is why\n",
    " we will focus on F1 as well for this analysis. We also will use a normalized\n",
    " confusion matrix in order to gain insight into how each of our models are\n",
    " performing. Lastly, We will do a statistical analysis comparing these metrics\n",
    " later in the report.\n",
    "\n",
    "\n",
    "\n",
    " <a id=\"modeling2\"></a> <a href=\"#top\">Back to Top</a>\n",
    " ### Section 4.2 Part 2:\n",
    "\n",
    " Choose the method you will use for dividing your data into training and\n",
    " testing splits (i.e., are you using Stratified 10-fold cross validation?\n",
    " Why?). Explain why your chosen method is appropriate or use more than one\n",
    " method as appropriate. For example, if you are using time series data then you\n",
    " should be using continuous training and testing sets across time.\n",
    "\n",
    " We chose in this analysis to use the train/test split method of cross validation. Due to\n",
    " our sufficiently large data set, we only need to do one fold. Because we are predicting on categorical data, a\n",
    " and every row is unique, we just used simple sklearn sampling of our dataset to generate the two splits.\n",
    " We can see the size of the splits in the cell above."
   ]
  },
  {
   "cell_type": "markdown",
   "metadata": {},
   "source": [
    "\n",
    " <a id=\"modeling3\"></a> <a href=\"#top\">Back to Top</a>\n",
    " ### Section 4.3 Part 3:\n",
    "\n",
    " Create three different classification/regression models for each task (e.g.,\n",
    " random forest, KNN, and SVM for task one and the same or different algorithms\n",
    " for task two). Two modeling techniques must be new (but the third could be SVM\n",
    " or logistic regression). Adjust parameters as appropriate to increase\n",
    " generalization performance using your chosen metric. You must investigate\n",
    " different parameters of the algorithms!\n",
    "\n",
    "\n",
    " <a id=\"modeling3_1\"></a> <a href=\"#top\">Back to Top</a>\n",
    " ### Task 1:  Classification of making > or <= 50k\n",
    "\n",
    " Our first task is to determine a persons income bracket\n",
    " by way of 3 different classification models. Our first model will be to\n",
    " create a logistic regression model. We will follow that with other\n",
    " classification methods such as Random Forest, and K-nearest neighbor.\n"
   ]
  },
  {
   "cell_type": "code",
   "execution_count": 24,
   "metadata": {},
   "outputs": [],
   "source": [
    "def plot_confusion_matrix(y_true, y_pred, \n",
    "                          normalize=True,\n",
    "                          title=None,\n",
    "                          cmap=plt.cm.Blues):\n",
    "    \"\"\"\n",
    "    This function prints and plots the confusion matrix.\n",
    "    Normalization can be applied by setting `normalize=True`.\n",
    "    \"\"\"\n",
    "    if not title:\n",
    "        if normalize:\n",
    "            title = 'Normalized confusion matrix'\n",
    "        else:\n",
    "            title = 'Confusion matrix, without normalization'\n",
    "\n",
    "    # Compute confusion matrix\n",
    "    cm = confusion_matrix(y_true, y_pred)\n",
    "    # Only use the labels that appear in the data\n",
    "    if normalize:\n",
    "        cm = cm.astype('float') / cm.sum(axis=1)[:, np.newaxis]\n",
    "        print(\"Normalized confusion matrix\")\n",
    "    else:\n",
    "        print('Confusion matrix, without normalization')\n",
    "\n",
    "    print(cm)\n",
    "\n",
    "    fig, ax = plt.subplots()\n",
    "    im = ax.imshow(cm, interpolation='nearest', cmap=cmap)\n",
    "    ax.figure.colorbar(im, ax=ax)\n",
    "    # We want to show all ticks...\n",
    "    ax.set(xticks=np.arange(cm.shape[1]),\n",
    "           yticks=np.arange(cm.shape[0]),\n",
    "           # ... and label them with the respective list entries\n",
    "           title=title,\n",
    "           ylabel='True label',\n",
    "           xlabel='Predicted label')\n",
    "\n",
    "    # Rotate the tick labels and set their alignment.\n",
    "    plt.setp(ax.get_xticklabels(), rotation=45, ha=\"right\",\n",
    "             rotation_mode=\"anchor\")\n",
    "\n",
    "    # Loop over data dimensions and create text annotations.\n",
    "    fmt = '.2f' if normalize else 'd'\n",
    "    thresh = cm.max() / 2.\n",
    "    for i in range(cm.shape[0]):\n",
    "        for j in range(cm.shape[1]):\n",
    "            ax.text(j, i, format(cm[i, j], fmt),\n",
    "                    ha=\"center\", va=\"center\",\n",
    "                    color=\"white\" if cm[i, j] > thresh else \"black\")\n",
    "    fig.tight_layout()\n",
    "    return ax\n",
    "\n"
   ]
  },
  {
   "cell_type": "markdown",
   "metadata": {},
   "source": [
    "\n",
    " <a id=\"modeling3_1_1\"></a> <a href=\"#top\">Back to Top</a>\n",
    "\n",
    " ### Logistic Regression\n",
    "\n",
    "\n",
    " Logistic regression (LR) is a classification algorithm thats used to predict\n",
    " the probability of our categorical dependent variable.  The basics behind LR\n",
    " is that it takes the output of a linear model and crams it into a logistic\n",
    " function to give it a probablity of 0 to 1 (but never equaling 0 or 1). We\n",
    " will implement this model as our first for Task 1.\n",
    "\n"
   ]
  },
  {
   "cell_type": "code",
   "execution_count": 25,
   "metadata": {},
   "outputs": [],
   "source": [
    "# # Initialize performance array to store model performances for various \n",
    "# # models used in Lab 02.\n",
    "\n",
    "from sklearn.linear_model import LogisticRegression\n",
    "from sklearn.neighbors import KNeighborsClassifier\n",
    "from sklearn.metrics import confusion_matrix\n",
    "from sklearn import metrics\n",
    "\n",
    "start = timeit.default_timer()\n",
    "performance = []\n",
    "logClassifier = LogisticRegression()\n"
   ]
  },
  {
   "cell_type": "code",
   "execution_count": 26,
   "metadata": {},
   "outputs": [
    {
     "name": "stderr",
     "output_type": "stream",
     "text": [
      "/nix/store/mgfg3a3wlfrb0jj8kk48gbcdncrf8xj7-python3.7-scikit-learn-0.21.2/lib/python3.7/site-packages/sklearn/linear_model/logistic.py:432: FutureWarning: Default solver will be changed to 'lbfgs' in 0.22. Specify a solver to silence this warning.\n",
      "  FutureWarning)\n"
     ]
    },
    {
     "name": "stdout",
     "output_type": "stream",
     "text": [
      "LogisticRegression : Training score - 0.850997 - Test score - 0.85628\n"
     ]
    }
   ],
   "source": [
    "## Fit Logistic Classifier on training data\n",
    "logClassifier.fit(X_train,y_train)\n",
    "train_score = logClassifier.score(X_train,y_train)\n",
    "test_score = logClassifier.score(X_test,y_test)\n",
    "\n",
    "## Analyze how the model performed when tested against both \n",
    "## the data the model used for fit and test data. This helps \n",
    "## us identify overfitting.\n",
    "print(f'LogisticRegression : Training score - {round(train_score,6)} - Test score - {round(test_score,6)}')\n",
    "\n"
   ]
  },
  {
   "cell_type": "code",
   "execution_count": 27,
   "metadata": {},
   "outputs": [
    {
     "name": "stdout",
     "output_type": "stream",
     "text": [
      "Normalized confusion matrix\n",
      "[[0.93800027 0.06199973]\n",
      " [0.39491243 0.60508757]]\n",
      "Logistic regression : accuracy score - 0.8562800696079435\n",
      "Logistic regression : f1 score - 0.6739433348815607\n"
     ]
    },
    {
     "data": {
      "image/png": "[encoded data removed]",
      "text/plain": [
       "<Figure size 432x288 with 2 Axes>"
      ]
     },
     "metadata": {},
     "output_type": "display_data"
    }
   ],
   "source": [
    "y_pred = logClassifier.predict(X_test)\n",
    "plot_confusion_matrix(y_test,y_pred)\n",
    "print(f'Logistic regression : accuracy score - {metrics.accuracy_score(y_test,y_pred)}')\n",
    "\n",
    "print(f'Logistic regression : f1 score - {metrics.f1_score(y_test,y_pred)}')\n",
    "\n",
    "stop = timeit.default_timer()\n",
    "t = stop - start\n",
    "performance.append({'algorithm':'LogisticRegressionT1',\n",
    "    'accuracy':metrics.accuracy_score(y_test,y_pred),\n",
    "    'f1 score':metrics.f1_score(y_test,y_pred),\n",
    "    'observations' : len(y_test),\n",
    "    'run time' : t})"
   ]
  },
  {
   "cell_type": "markdown",
   "metadata": {},
   "source": [
    "\n",
    " Our Logistic regression gives us an accuracy of 84.8%, however suffered from a lower F1 score of 0.639.\n",
    " This is likely due to the models high amount of false negatives, as we can see from the confusion matrix, the model gave us nearly\n",
    " as many false negatives as true positives. It was however very good at detecting true negatives."
   ]
  },
  {
   "cell_type": "markdown",
   "metadata": {},
   "source": [
    "\n",
    " <a id=\"modeling3_1_2\"></a> <a href=\"#top\">Back to Top</a>\n",
    " ### Random Forest\n",
    "\n",
    "\n",
    " One of the most commonly used classifier techniques is random forest, due to\n",
    " its very low bias and general stability when it comes to classification.  One\n",
    " method of optimizing a random forest model is to try different parameters to\n",
    " increase performance. Another method of doing so is by utilizing grid search\n",
    " to let random forrest decide which combination of hyperparameters would be best\n",
    " implemented in your model.  We chose this route as it saves both time and\n",
    " sanity when comparing so many different parameters.\n",
    "\n",
    " We'll start with a baseline random forest for our starting position."
   ]
  },
  {
   "cell_type": "code",
   "execution_count": 28,
   "metadata": {},
   "outputs": [
    {
     "name": "stdout",
     "output_type": "stream",
     "text": [
      "Random Forest : Accuracy score - 0.8458388780837343\n",
      "Random Forest : F1 score - 0.6594301221166893\n"
     ]
    }
   ],
   "source": [
    "from sklearn.ensemble import RandomForestClassifier\n",
    "from sklearn.datasets import make_classification\n",
    "from sklearn.model_selection import KFold\n",
    "from sklearn.model_selection import GridSearchCV\n",
    "from sklearn import metrics\n",
    "\n",
    "\n",
    "clf =RandomForestClassifier(n_estimators=100)\n",
    "clf.fit(X_train,y_train)\n",
    "y_pred = clf.predict(X_test)\n",
    "\n",
    "print(f'Random Forest : Accuracy score - {metrics.accuracy_score(y_test, y_pred)}')\n",
    "\n",
    "print(f'Random Forest : F1 score - {metrics.f1_score(y_test, y_pred)}')"
   ]
  },
  {
   "cell_type": "code",
   "execution_count": 29,
   "metadata": {},
   "outputs": [
    {
     "name": "stdout",
     "output_type": "stream",
     "text": [
      "Normalized confusion matrix\n",
      "[[0.92321259 0.07678741]\n",
      " [0.39199333 0.60800667]]\n"
     ]
    },
    {
     "data": {
      "text/plain": [
       "<matplotlib.axes._subplots.AxesSubplot at 0x7f1c201959e8>"
      ]
     },
     "execution_count": 29,
     "metadata": {},
     "output_type": "execute_result"
    },
    {
     "data": {
      "image/png": "[encoded data removed]",
      "text/plain": [
       "<Figure size 432x288 with 2 Axes>"
      ]
     },
     "metadata": {},
     "output_type": "display_data"
    }
   ],
   "source": [
    "plot_confusion_matrix(y_test, y_pred)\n"
   ]
  },
  {
   "cell_type": "markdown",
   "metadata": {},
   "source": [
    "\n",
    " Our initial run shows a decent accuracy with a basis of n_estimators at 100.\n",
    " With an Accuracy of 84.7%. The F1 score offered a slight improvement over that\n",
    " of the simple logistic regression, which is visible in the slightly lowered\n",
    " amount of false negatives in the confusion matrix. One clear issue with this\n",
    " model however, which causes it to be poorly performing, is the relatively high\n",
    " rate of false positives. Thats a pretty good initial run, but improvements can\n",
    " be made.  Now we will implement a gridsearch over this random forrest to\n",
    " extract optimal hyperparameters for tuning our random forest.  Our chosen\n",
    " hyperparameter tuning features will be\n",
    "\n",
    " ** max_features **\n",
    "   * Max Features looks to optimize the number of features to consider when\n",
    "     looking for a split\n",
    "\n",
    "\n",
    " ** n_estimators **\n",
    "   * n_estimators sets the number of tree's in a forest.  Adding more tree's\n",
    "     will increase your accuracy, but also make the training process very time\n",
    "     costly.\n",
    "\n",
    "\n",
    " ** min_samples_leaf **\n",
    "   * This is the minimum number of samples required for a leaf node to be\n",
    "     created.\n"
   ]
  },
  {
   "cell_type": "code",
   "execution_count": 31,
   "metadata": {},
   "outputs": [
    {
     "name": "stdout",
     "output_type": "stream",
     "text": [
      "Random Forest : Accuracy score - 0.8463507011976661\n",
      "Random Forest : f1 score - 0.6296570441648163\n"
     ]
    },
    {
     "data": {
      "text/plain": [
       "x1_Married-civ-spouse       0.160016\n",
       "x5_Husband                  0.125052\n",
       "education_num               0.114736\n",
       "capital_gain                0.102814\n",
       "x1_Never-married            0.066127\n",
       "age                         0.041115\n",
       "hours_per_week              0.037141\n",
       "x2_Exec-managerial          0.033823\n",
       "x6_No Diploma               0.030833\n",
       "x5_Own-child                0.027142\n",
       "x2_Prof-specialty           0.023992\n",
       "x5_Not-in-family            0.023864\n",
       "x6_Bachelors                0.023504\n",
       "capital_loss                0.022732\n",
       "x4_Female                   0.021707\n",
       "x5_Wife                     0.020734\n",
       "x6_Diploma                  0.019693\n",
       "x4_Male                     0.016925\n",
       "x6_Masters                  0.011137\n",
       "x1_Divorced                 0.009191\n",
       "x5_Unmarried                0.008495\n",
       "x2_Other-service            0.007929\n",
       "x6_Prof-school              0.006656\n",
       "x0_Self-emp-inc             0.004816\n",
       "x2_Farming-fishing          0.004234\n",
       "x0_Self-emp-not-inc         0.003762\n",
       "x6_Associates               0.002962\n",
       "x2_Machine-op-inspct        0.002931\n",
       "x6_Doctorate                0.002917\n",
       "x3_White                    0.002525\n",
       "                              ...   \n",
       "x2_?                        0.001825\n",
       "x1_Separated                0.001563\n",
       "x2_Tech-support             0.001417\n",
       "x0_Federal-gov              0.001411\n",
       "x0_Private                  0.001411\n",
       "x0_?                        0.001343\n",
       "x2_Adm-clerical             0.001133\n",
       "x2_Transport-moving         0.001093\n",
       "x3_Black                    0.001003\n",
       "x2_Craft-repair             0.000947\n",
       "x5_Other-relative           0.000822\n",
       "x0_Local-gov                0.000684\n",
       "x7_North America            0.000430\n",
       "x2_Protective-serv          0.000334\n",
       "x1_Widowed                  0.000311\n",
       "x0_State-gov                0.000257\n",
       "x3_Asian-Pac-Islander       0.000189\n",
       "x1_Married-spouse-absent    0.000068\n",
       "x7_Asia                     0.000043\n",
       "x3_Other                    0.000032\n",
       "x3_Amer-Indian-Eskimo       0.000017\n",
       "x2_Priv-house-serv          0.000011\n",
       "x7_Other                    0.000008\n",
       "x7_Europe                   0.000004\n",
       "x0_Never-worked             0.000000\n",
       "x0_Without-pay              0.000000\n",
       "x1_Married-AF-spouse        0.000000\n",
       "x2_Armed-Forces             0.000000\n",
       "x7_Caribbean                0.000000\n",
       "x7_South America            0.000000\n",
       "Length: 62, dtype: float64"
      ]
     },
     "execution_count": 31,
     "metadata": {},
     "output_type": "execute_result"
    }
   ],
   "source": [
    "clf =RandomForestClassifier(n_estimators=50,max_features=5,min_samples_leaf=50)\n",
    "clf.fit(X_train,y_train)\n",
    "y_pred = clf.predict(X_test)\n",
    "\n",
    "print(f'Random Forest : Accuracy score - {metrics.accuracy_score(y_test, y_pred)}')\n",
    "print(f'Random Forest : f1 score - {metrics.f1_score(y_test, y_pred)}')\n",
    "# performance.append({'algorithm':'Random Forrest', 'testing_score':metrics.accuracy_score(y_test, y_pred)})\n",
    "#  Commented out performance append because we just want to capture the last run.\n",
    "\n",
    "## This gives you the name of the features that are important according to the RFC\n",
    "feature_imp = pd.Series(clf.feature_importances_,index=new_headers).sort_values(ascending=False)\n",
    "top_feat = feature_imp.nlargest(n=8)\n",
    "feature_imp\n"
   ]
  },
  {
   "cell_type": "code",
   "execution_count": 32,
   "metadata": {},
   "outputs": [
    {
     "name": "stderr",
     "output_type": "stream",
     "text": [
      "No handles with labels found to put in legend.\n"
     ]
    },
    {
     "data": {
      "image/png": "[encoded data removed]",
      "text/plain": [
       "<Figure size 432x288 with 1 Axes>"
      ]
     },
     "metadata": {},
     "output_type": "display_data"
    }
   ],
   "source": [
    "# Creating a bar plot\n",
    "sns.barplot(x=top_feat, y=top_feat.index)\n",
    "# Add labels to your graph\n",
    "plt.xlabel('Feature Importance Score')\n",
    "plt.ylabel('Features')\n",
    "plt.title(\"Visualizing Important Features\")\n",
    "plt.legend()\n",
    "plt.show()\n"
   ]
  },
  {
   "cell_type": "markdown",
   "metadata": {},
   "source": [
    "\n",
    " With these parameters, we have built improved our rate of false\n",
    " positives slightly, but drastically worsened our rate of false negatives:\n"
   ]
  },
  {
   "cell_type": "code",
   "execution_count": 33,
   "metadata": {},
   "outputs": [
    {
     "name": "stdout",
     "output_type": "stream",
     "text": [
      "Normalized confusion matrix\n",
      "[[0.94858228 0.05141772]\n",
      " [0.46788991 0.53211009]]\n"
     ]
    },
    {
     "data": {
      "text/plain": [
       "<matplotlib.axes._subplots.AxesSubplot at 0x7f1c1fd75550>"
      ]
     },
     "execution_count": 33,
     "metadata": {},
     "output_type": "execute_result"
    },
    {
     "data": {
      "image/png": "[encoded data removed]",
      "text/plain": [
       "<Figure size 432x288 with 2 Axes>"
      ]
     },
     "metadata": {},
     "output_type": "display_data"
    }
   ],
   "source": [
    "\n",
    "plot_confusion_matrix(y_test, y_pred)\n"
   ]
  },
  {
   "cell_type": "markdown",
   "metadata": {},
   "source": [
    "\n",
    " Let us continue adjusting the model.\n",
    " First, let us adjust the number of features, and allow for basically any number of features to be included in the final model.\n",
    " This should help with the false negative problem we have been having.\n"
   ]
  },
  {
   "cell_type": "code",
   "execution_count": 34,
   "metadata": {},
   "outputs": [
    {
     "name": "stdout",
     "output_type": "stream",
     "text": [
      "Normalized confusion matrix\n",
      "[[0.94668295 0.05331705]\n",
      " [0.3999166  0.6000834 ]]\n",
      "Random Forest : Accuracy score - 0.8616030299928344\n",
      "Random Forest : f1 score - 0.6803782505910165\n"
     ]
    },
    {
     "data": {
      "text/plain": [
       "x1_Married-civ-spouse       3.348747e-01\n",
       "capital_gain                1.944019e-01\n",
       "education_num               1.909800e-01\n",
       "age                         5.700608e-02\n",
       "x5_Husband                  5.371147e-02\n",
       "capital_loss                4.556580e-02\n",
       "hours_per_week              4.251332e-02\n",
       "x6_No Diploma               1.619702e-02\n",
       "x2_Exec-managerial          1.328019e-02\n",
       "x5_Wife                     1.081996e-02\n",
       "x0_Self-emp-not-inc         6.605463e-03\n",
       "x2_Prof-specialty           6.351570e-03\n",
       "x0_Private                  3.000496e-03\n",
       "x2_Other-service            2.857259e-03\n",
       "x2_Sales                    2.179060e-03\n",
       "x2_Farming-fishing          2.096346e-03\n",
       "x6_Bachelors                1.872373e-03\n",
       "x2_Tech-support             1.500995e-03\n",
       "x4_Male                     1.498130e-03\n",
       "x2_Craft-repair             1.497942e-03\n",
       "x4_Female                   1.487476e-03\n",
       "x0_Federal-gov              1.079941e-03\n",
       "x2_Adm-clerical             1.057248e-03\n",
       "x3_White                    1.029274e-03\n",
       "x6_Masters                  9.210551e-04\n",
       "x1_Never-married            7.096380e-04\n",
       "x5_Not-in-family            6.109057e-04\n",
       "x6_Diploma                  5.304068e-04\n",
       "x2_Machine-op-inspct        5.243267e-04\n",
       "x0_Local-gov                3.747383e-04\n",
       "                                ...     \n",
       "x0_Self-emp-inc             3.652179e-04\n",
       "x6_Doctorate                3.226511e-04\n",
       "x6_Associates               3.218432e-04\n",
       "x6_Prof-school              3.175838e-04\n",
       "x2_Protective-serv          2.002984e-04\n",
       "x7_North America            1.251262e-04\n",
       "x5_Unmarried                9.785158e-05\n",
       "x5_Own-child                7.404653e-05\n",
       "x2_Handlers-cleaners        7.210172e-05\n",
       "x3_Black                    6.286893e-05\n",
       "x0_?                        5.929196e-05\n",
       "x2_?                        5.303939e-05\n",
       "x0_State-gov                1.401087e-05\n",
       "x1_Widowed                  1.338147e-05\n",
       "x7_Other                    8.219299e-06\n",
       "x7_Europe                   3.824860e-06\n",
       "x3_Asian-Pac-Islander       3.341646e-06\n",
       "x1_Separated                2.513667e-06\n",
       "x3_Amer-Indian-Eskimo       1.149559e-06\n",
       "x7_Asia                     8.642377e-07\n",
       "x5_Other-relative           1.433523e-07\n",
       "x7_South America            0.000000e+00\n",
       "x0_Never-worked             0.000000e+00\n",
       "x0_Without-pay              0.000000e+00\n",
       "x1_Married-AF-spouse        0.000000e+00\n",
       "x1_Married-spouse-absent    0.000000e+00\n",
       "x2_Armed-Forces             0.000000e+00\n",
       "x3_Other                    0.000000e+00\n",
       "x7_Caribbean                0.000000e+00\n",
       "x2_Priv-house-serv          0.000000e+00\n",
       "Length: 62, dtype: float64"
      ]
     },
     "execution_count": 34,
     "metadata": {},
     "output_type": "execute_result"
    },
    {
     "data": {
      "image/png": "[encoded data removed]",
      "text/plain": [
       "<Figure size 432x288 with 2 Axes>"
      ]
     },
     "metadata": {},
     "output_type": "display_data"
    }
   ],
   "source": [
    "\n",
    "\n",
    "clf =RandomForestClassifier(n_estimators=50,max_features=50,min_samples_leaf=50, n_jobs = -1)\n",
    "clf.fit(X_train,y_train)\n",
    "y_pred = clf.predict(X_test)\n",
    "plot_confusion_matrix(y_test, y_pred)\n",
    "print(f'Random Forest : Accuracy score - {metrics.accuracy_score(y_test, y_pred)}')\n",
    "print(f'Random Forest : f1 score - {metrics.f1_score(y_test, y_pred)}')\n",
    "\n",
    "## This gives you the name of the features that are important according to the RFC\n",
    "feature_imp = pd.Series(clf.feature_importances_,index=new_headers).sort_values(ascending=False)\n",
    "top_feat = feature_imp.nlargest(n=8)\n",
    "feature_imp"
   ]
  },
  {
   "cell_type": "markdown",
   "metadata": {},
   "source": [
    "\n",
    " This is our best model so far. We have maintained the low rate of false\n",
    " positives, while also lowering the rate of false negatives to near its default\n",
    " level. Let us check out this models most important features:\n"
   ]
  },
  {
   "cell_type": "code",
   "execution_count": 35,
   "metadata": {},
   "outputs": [
    {
     "name": "stderr",
     "output_type": "stream",
     "text": [
      "No handles with labels found to put in legend.\n"
     ]
    },
    {
     "data": {
      "image/png": "[encoded data removed]",
      "text/plain": [
       "<Figure size 432x288 with 1 Axes>"
      ]
     },
     "metadata": {},
     "output_type": "display_data"
    }
   ],
   "source": [
    "# Creating a bar plot\n",
    "sns.barplot(x=top_feat, y=top_feat.index)\n",
    "# Add labels to your graph\n",
    "plt.xlabel('Feature Importance Score')\n",
    "plt.ylabel('Features')\n",
    "plt.title(\"Visualizing Important Features\")\n",
    "plt.legend()\n",
    "plt.show()\n"
   ]
  },
  {
   "cell_type": "markdown",
   "metadata": {},
   "source": [
    "\n",
    " Let us now tune the model even further, raising the number of\n",
    " estimators, as well as lowering the the minumum samples per leaf:\n"
   ]
  },
  {
   "cell_type": "code",
   "execution_count": 36,
   "metadata": {},
   "outputs": [
    {
     "name": "stdout",
     "output_type": "stream",
     "text": [
      "Normalized confusion matrix\n",
      "[[0.94763261 0.05236739]\n",
      " [0.38573812 0.61426188]]\n",
      "Random Forest : Accuracy score - 0.8657999795270754\n",
      "Random Forest : F1 score - 0.6920366455250176\n"
     ]
    },
    {
     "data": {
      "text/plain": [
       "x1_Married-civ-spouse       2.830152e-01\n",
       "capital_gain                1.715353e-01\n",
       "education_num               1.692027e-01\n",
       "age                         9.563829e-02\n",
       "hours_per_week              5.715575e-02\n",
       "capital_loss                4.998439e-02\n",
       "x5_Husband                  4.910812e-02\n",
       "x2_Exec-managerial          1.371221e-02\n",
       "x6_No Diploma               1.124341e-02\n",
       "x5_Wife                     1.063211e-02\n",
       "x0_Self-emp-not-inc         8.395626e-03\n",
       "x0_Private                  7.681241e-03\n",
       "x2_Prof-specialty           6.821128e-03\n",
       "x2_Sales                    4.812217e-03\n",
       "x2_Other-service            4.619434e-03\n",
       "x2_Craft-repair             4.559183e-03\n",
       "x2_Farming-fishing          3.382720e-03\n",
       "x2_Adm-clerical             2.947129e-03\n",
       "x6_Bachelors                2.812402e-03\n",
       "x2_Transport-moving         2.735297e-03\n",
       "x4_Female                   2.614347e-03\n",
       "x4_Male                     2.461197e-03\n",
       "x3_White                    2.451869e-03\n",
       "x2_Handlers-cleaners        2.415055e-03\n",
       "x2_Tech-support             2.326357e-03\n",
       "x2_Machine-op-inspct        2.258073e-03\n",
       "x0_Local-gov                2.243034e-03\n",
       "x0_Federal-gov              2.128656e-03\n",
       "x1_Never-married            2.070118e-03\n",
       "x6_Diploma                  1.903644e-03\n",
       "                                ...     \n",
       "x5_Not-in-family            1.502637e-03\n",
       "x1_Divorced                 1.414745e-03\n",
       "x2_Protective-serv          1.324626e-03\n",
       "x6_Masters                  1.298166e-03\n",
       "x6_Associates               1.175260e-03\n",
       "x3_Black                    1.069521e-03\n",
       "x0_State-gov                9.506104e-04\n",
       "x6_Prof-school              7.185851e-04\n",
       "x0_?                        6.249205e-04\n",
       "x2_?                        6.167634e-04\n",
       "x5_Unmarried                5.711103e-04\n",
       "x3_Asian-Pac-Islander       5.095417e-04\n",
       "x6_Doctorate                4.462931e-04\n",
       "x7_Asia                     2.667042e-04\n",
       "x7_Other                    2.509452e-04\n",
       "x1_Widowed                  2.046795e-04\n",
       "x7_Europe                   1.597592e-04\n",
       "x5_Own-child                1.583820e-04\n",
       "x1_Married-AF-spouse        1.480032e-04\n",
       "x1_Separated                1.477970e-04\n",
       "x1_Married-spouse-absent    1.169226e-04\n",
       "x3_Amer-Indian-Eskimo       4.381496e-05\n",
       "x5_Other-relative           3.895679e-05\n",
       "x7_Caribbean                1.830667e-05\n",
       "x3_Other                    7.111903e-07\n",
       "x7_South America            0.000000e+00\n",
       "x0_Never-worked             0.000000e+00\n",
       "x0_Without-pay              0.000000e+00\n",
       "x2_Armed-Forces             0.000000e+00\n",
       "x2_Priv-house-serv          0.000000e+00\n",
       "Length: 62, dtype: float64"
      ]
     },
     "execution_count": 36,
     "metadata": {},
     "output_type": "execute_result"
    },
    {
     "data": {
      "image/png": "[encoded data removed]",
      "text/plain": [
       "<Figure size 432x288 with 2 Axes>"
      ]
     },
     "metadata": {},
     "output_type": "display_data"
    }
   ],
   "source": [
    "start = timeit.default_timer()\n",
    "\n",
    "clf =RandomForestClassifier(n_estimators=500,max_features=50,min_samples_leaf=10, n_jobs = -1)\n",
    "clf.fit(X_train,y_train)\n",
    "y_pred = clf.predict(X_test)\n",
    "\n",
    "stop = timeit.default_timer()\n",
    "t = stop - start\n",
    "\n",
    "plot_confusion_matrix(y_test, y_pred)\n",
    "print(f'Random Forest : Accuracy score - {metrics.accuracy_score(y_test, y_pred)}')\n",
    "print(f'Random Forest : F1 score - {metrics.f1_score(y_test, y_pred)}')\n",
    "performance.append({'algorithm':'Random ForestT1', \n",
    "    'accuracy':metrics.accuracy_score(y_test, y_pred),\n",
    "    'f1 score':metrics.f1_score(y_test,y_pred),\n",
    "    'observations' : len(y_test),\n",
    "    'run time' : t})\n",
    "\n",
    "\n",
    "\n",
    "## This gives you the name of the features that are important according to the RFC\n",
    "feature_imp = pd.Series(clf.feature_importances_,index=new_headers).sort_values(ascending=False)\n",
    "top_feat = feature_imp.nlargest(n=8)\n",
    "feature_imp\n"
   ]
  },
  {
   "cell_type": "code",
   "execution_count": 37,
   "metadata": {},
   "outputs": [],
   "source": [
    "# A significant improvement! We have managed to slightly improve the false negative rate of the original random forest,\n",
    "# while keepig our noticibeale false positive rate improvements. And look at that high F1 score! Lets check out what features this new\n",
    "# super-accurate model suggests:"
   ]
  },
  {
   "cell_type": "code",
   "execution_count": 38,
   "metadata": {},
   "outputs": [
    {
     "name": "stderr",
     "output_type": "stream",
     "text": [
      "No handles with labels found to put in legend.\n"
     ]
    },
    {
     "data": {
      "image/png": "[encoded data removed]",
      "text/plain": [
       "<Figure size 432x288 with 1 Axes>"
      ]
     },
     "metadata": {},
     "output_type": "display_data"
    }
   ],
   "source": [
    "\n",
    "sns.barplot(x=top_feat, y=top_feat.index)\n",
    "# Add labels to your graph\n",
    "plt.xlabel('Feature Importance Score')\n",
    "plt.ylabel('Features')\n",
    "plt.title(\"Visualizing Important Features\")\n",
    "plt.legend()\n",
    "plt.show()"
   ]
  },
  {
   "cell_type": "markdown",
   "metadata": {},
   "source": [
    "\n",
    " Interestingly, this and a lot of the much cheaper models have very similar top\n",
    " features. Therefore, if the goal of our analysis was to simply determine the\n",
    " important features to make a simple model, we would want to choose one of the\n",
    " cheaper models with similar results. However, if we are going for accuracy,\n",
    " and low false positive and false negtive rates, this more expensive model is\n",
    " demonstrably superior\n",
    "\n"
   ]
  },
  {
   "cell_type": "markdown",
   "metadata": {},
   "source": [
    "\n",
    " <a id=\"modeling3_1_3\"></a> <a href=\"#top\">Back to Top</a>\n",
    " ### KNN: K-nearest neighbors\n",
    "\n",
    " Next we have our KNN model using varying n_neighbor values. We will attempt to\n",
    " identify the optimal number of neighbors that allows for highest degree of\n",
    " accurancy while also being useful when tested on both the training and test\n",
    " set of data.\n"
   ]
  },
  {
   "cell_type": "code",
   "execution_count": 39,
   "metadata": {},
   "outputs": [
    {
     "name": "stdout",
     "output_type": "stream",
     "text": [
      "KNN : Training score - 0.9689299516290021 -- Test score - 0.8030504657590337\n",
      "KNN : Training score - 0.8990607324751106 -- Test score - 0.8259801412631794\n",
      "KNN : Training score - 0.8805057200624472 -- Test score - 0.8335551233493704\n",
      "KNN : Training score - 0.8748240472960868 -- Test score - 0.8375473436380387\n",
      "KNN : Training score - 0.8706011824021703 -- Test score - 0.8416419285494933\n",
      "KNN : Training score - 0.8680418703452512 -- Test score - 0.8447128672330843\n",
      "KNN : Training score - 0.866147979423131 -- Test score - 0.8457365134609479\n",
      "KNN : Training score - 0.8647147646712564 -- Test score - 0.8457365134609479\n",
      "KNN : Training score - 0.8632815499193817 -- Test score - 0.8463507011976661\n",
      "KNN : Training score - 0.8623090113377524 -- Test score - 0.8453270549698024\n"
     ]
    }
   ],
   "source": [
    "start = timeit.default_timer()\n",
    "\n",
    "knn_scores = []\n",
    "train_scores = []\n",
    "test_scores = []\n",
    "for n in range(1,20,2):\n",
    "    knn = KNeighborsClassifier(n_neighbors=n,n_jobs=-1)\n",
    "    knn.fit(X_train,y_train)\n",
    "    train_score = knn.score(X_train,y_train)\n",
    "    test_score = knn.score(X_test,y_test)\n",
    "    train_scores.append(train_score)\n",
    "    test_scores.append(test_score)\n",
    "    print(f'KNN : Training score - {train_score} -- Test score - {test_score}')\n",
    "    knn_scores.append({'algorithm':'KNN', 'training_score':train_score,'testing_score':test_score})\n",
    "\n",
    "\n"
   ]
  },
  {
   "cell_type": "markdown",
   "metadata": {},
   "source": [
    "\n",
    " Visualizing the test vs training model scores helps us identify the the\n",
    " optimal n_neighbors level to train the model. We want to minimize the\n",
    " difference in performance between two sets while as well as optimize number of\n",
    " neighbors needed.  From the look of the scatterplot below, 5 nearest neighbors\n",
    " appears to be our best value for an even bias/variance tradeoff.\n",
    "\n"
   ]
  },
  {
   "cell_type": "code",
   "execution_count": 40,
   "metadata": {},
   "outputs": [
    {
     "data": {
      "image/png": "[encoded data removed]",
      "text/plain": [
       "<Figure size 432x288 with 1 Axes>"
      ]
     },
     "metadata": {},
     "output_type": "display_data"
    }
   ],
   "source": [
    "fig, ax = plt.subplots()\n",
    "colors = ['tab:blue','tab:red']\n",
    "for i,data in enumerate([train_scores,test_scores]):\n",
    "\n",
    "    ax.scatter(x=range(1, 20, 2),y=data, c=colors[i])\n",
    "# plt.scatter(x=range(1, 20, 2),y=train_scores,c='b',)\n",
    "# plt.scatter(x=range(1, 20, 2),y=test_scores,c='r')\n",
    "plt.style.use('seaborn-pastel')\n",
    "plt.show()\n"
   ]
  },
  {
   "cell_type": "markdown",
   "metadata": {},
   "source": [
    "\n",
    " Let us take a look at the accuracy and F1 scores for our best KNN model, as\n",
    " well as a confusion matrix:"
   ]
  },
  {
   "cell_type": "code",
   "execution_count": 41,
   "metadata": {},
   "outputs": [
    {
     "name": "stdout",
     "output_type": "stream",
     "text": [
      "Normalized confusion matrix\n",
      "[[0.91290191 0.08709809]\n",
      " [0.41034195 0.58965805]]\n",
      "KNN : Accuracy score - 0.8335551233493704\n",
      "KNN : f1 score - 0.6349348899865289\n"
     ]
    },
    {
     "data": {
      "image/png": "[encoded data removed]",
      "text/plain": [
       "<Figure size 432x288 with 2 Axes>"
      ]
     },
     "metadata": {},
     "output_type": "display_data"
    }
   ],
   "source": [
    "\n",
    "knn = KNeighborsClassifier(n_neighbors=5,n_jobs=-1)\n",
    "knn.fit(X_train,y_train)\n",
    "y_pred = knn.predict(X_test)\n",
    "\n",
    "stop = timeit.default_timer()\n",
    "t = stop - start\n",
    "\n",
    "plot_confusion_matrix(y_test, y_pred)\n",
    "print(f'KNN : Accuracy score - {metrics.accuracy_score(y_test, y_pred)}')\n",
    "print(f'KNN : f1 score - {metrics.f1_score(y_test, y_pred)}')\n",
    "performance.append({'algorithm':'KNNT1', \n",
    "    'accuracy':metrics.accuracy_score(y_test, y_pred),\n",
    "    'f1 score':metrics.f1_score(y_test,y_pred),\n",
    "    'observations' : len(y_test),\n",
    "    'run time' : t})\n",
    "\n"
   ]
  },
  {
   "cell_type": "markdown",
   "metadata": {},
   "source": [
    "\n",
    " Looking at the result of our knn test, it is not as well performing as the\n",
    " random forest. It is slower, has lower accuracy, and has an overall low  f1\n",
    " score. This is likely due to the relatively high rate of false positives.\n",
    "\n",
    "\n"
   ]
  },
  {
   "cell_type": "markdown",
   "metadata": {},
   "source": [
    "\n",
    " <a id=\"modeling3_2\"></a> <a href=\"#top\">Back to Top</a>\n",
    " ### Task 2:  Classification of gender\n",
    "\n",
    "\n",
    " For Task 2, we decided to predict the gender of a person in the Census data.\n",
    " This was chosen due to the binary outcome of that column and it seemed like\n",
    " fun to predict.  On this task, we will classify the gender of the person using\n",
    " Logistic Regression, Random Forest, Naive Bayes, and Stochastic Gradient\n",
    " Descent\n",
    "\n"
   ]
  },
  {
   "cell_type": "code",
   "execution_count": 42,
   "metadata": {},
   "outputs": [],
   "source": [
    "#\n",
    "# Data Import for task 2\n",
    "#\n",
    "from analysis import dataBuilding as lab_db\n",
    "\n",
    "# Assign Default Values for Columns\n",
    "cat_cols2,cont_cols2,drop_cols = lab_db.cat_cols2,lab_db.cont_cols2,lab_db.drop_cols\n",
    "\n",
    "# Drop Columns (if any)\n",
    "X,y = lab_db.build_df2(drop_cols)\n",
    "\n",
    "# Transform continuous cols to scaled versions\n",
    "# Transform categorical cols to Encoded Cols\n",
    "trans = lab_db.build_transform(cont_cols2,cat_cols2)\n"
   ]
  },
  {
   "cell_type": "code",
   "execution_count": 43,
   "metadata": {},
   "outputs": [],
   "source": [
    "# Execute Transforms specified above on all X data\n",
    "X_processed = trans[1].fit_transform(X)\n",
    "enc_headers = trans[1].named_transformers_['cat'].named_steps['onehot'].get_feature_names()\n",
    "new_headers = np.concatenate((cont_cols,enc_headers))"
   ]
  },
  {
   "cell_type": "code",
   "execution_count": 44,
   "metadata": {},
   "outputs": [],
   "source": [
    "# Split processed X data into training and test sets.\n",
    "# Also separate y (label) data into training and test sets.\n",
    "X_train, X_test, y_train, y_test = lab_db.split_df(X_processed,y,0.2)\n",
    "\n"
   ]
  },
  {
   "cell_type": "code",
   "execution_count": 45,
   "metadata": {},
   "outputs": [],
   "source": [
    "# # Initialize performance array to store model performances for various \n",
    "# # \n",
    "\n",
    "from sklearn.linear_model import LogisticRegression\n",
    "from sklearn.neighbors import KNeighborsClassifier\n",
    "\n",
    "start = timeit.default_timer()\n",
    "\n",
    "logClassifier = LogisticRegression()\n"
   ]
  },
  {
   "cell_type": "markdown",
   "metadata": {},
   "source": [
    "\n",
    " <a id=\"modeling3_2_1\"></a> <a href=\"#top\">Back to Top</a>\n",
    " ### Logistic Regression\n",
    "\n",
    " First, we will be looking at a simple logistic regression model in order to\n",
    " predict whether a person, given demographic circumstances, is a man or a\n",
    " woman. We are starting with logistic regression because it is fast, simple,\n",
    " and if it performs equally well as other models it is likely the best model to\n",
    " choose, due to its cheapness and simplicity. Therefore it will act as a\n",
    " standard to compare to the other models"
   ]
  },
  {
   "cell_type": "code",
   "execution_count": 46,
   "metadata": {},
   "outputs": [
    {
     "name": "stderr",
     "output_type": "stream",
     "text": [
      "/nix/store/mgfg3a3wlfrb0jj8kk48gbcdncrf8xj7-python3.7-scikit-learn-0.21.2/lib/python3.7/site-packages/sklearn/linear_model/logistic.py:432: FutureWarning: Default solver will be changed to 'lbfgs' in 0.22. Specify a solver to silence this warning.\n",
      "  FutureWarning)\n"
     ]
    },
    {
     "name": "stdout",
     "output_type": "stream",
     "text": [
      "LogisticRegression : Training score - 0.844445 - Test score - 0.841437\n"
     ]
    }
   ],
   "source": [
    "## Fit Logistic Classifier on training data\n",
    "logClassifier.fit(X_train,y_train)\n",
    "train_score = logClassifier.score(X_train,y_train)\n",
    "test_score = logClassifier.score(X_test,y_test)\n",
    "\n",
    "## Analyze how the model performed when tested against both \n",
    "## the data the model used for fit and test data. This helps \n",
    "## us identify overfitting.\n",
    "print(f'LogisticRegression : Training score - {round(train_score,6)} - Test score - {round(test_score,6)}')\n"
   ]
  },
  {
   "cell_type": "markdown",
   "metadata": {},
   "source": [
    " let us now look at a confusion matrix, accuracy, and F1 score fore this model:"
   ]
  },
  {
   "cell_type": "code",
   "execution_count": 47,
   "metadata": {},
   "outputs": [
    {
     "name": "stdout",
     "output_type": "stream",
     "text": [
      "Normalized confusion matrix\n",
      "[[0.79436965 0.20563035]\n",
      " [0.13490232 0.86509768]]\n",
      "Logistic Regression : Accuracy score - 0.8414371993039206\n",
      "Logistic Regression : f1 score - 0.8789560053137454\n"
     ]
    },
    {
     "data": {
      "image/png": "[encoded data removed]",
      "text/plain": [
       "<Figure size 432x288 with 2 Axes>"
      ]
     },
     "metadata": {},
     "output_type": "display_data"
    }
   ],
   "source": [
    "y_pred = logClassifier.predict(X_test)\n",
    "\n",
    "stop = timeit.default_timer()\n",
    "t = stop - start\n",
    "\n",
    "plot_confusion_matrix(y_test, y_pred)\n",
    "print(f'Logistic Regression : Accuracy score - {metrics.accuracy_score(y_test, y_pred)}')\n",
    "print(f'Logistic Regression : f1 score - {metrics.f1_score(y_test, y_pred)}')\n",
    "\n",
    "performance.append({'algorithm':'LogisticRegressionT2',\n",
    "    'accuracy':metrics.accuracy_score(y_test,y_pred),\n",
    "    'f1 score':metrics.f1_score(y_test,y_pred),\n",
    "    'observations' : len(y_test),\n",
    "    'run time' : t})\n"
   ]
  },
  {
   "cell_type": "markdown",
   "metadata": {},
   "source": [
    "\n",
    " This model is very interesting. Although it has a high rate of false\n",
    " positives, it has an exceedingly low rate of false negatives. Thus, it has a\n",
    " higher F1 score than it does accuracy. This model would be really useful in\n",
    " situations where where a false negative would be really bad but a false\n",
    " positive is fine\n",
    "\n",
    "\n",
    " Let us now move on to the random forest. We will first run a grid search in\n",
    " parallel in order to find the proper parameters for this one. The random\n",
    " forest, while a more expensive model than logistic regression, has a chance to\n",
    " not only give us a better preditcion/classification than logisrtic regression,\n",
    " but also has a wonderful built in tool for viewing which estimators are the\n",
    " most important. This tool can be useful in deciding on further models, as well\n",
    " as just looking for which variables are most important and deserve a closer\n",
    " look or more data collection for future use.\n",
    "\n"
   ]
  },
  {
   "cell_type": "markdown",
   "metadata": {},
   "source": [
    "\n",
    " ### Random Forest\n"
   ]
  },
  {
   "cell_type": "code",
   "execution_count": 48,
   "metadata": {},
   "outputs": [
    {
     "name": "stdout",
     "output_type": "stream",
     "text": [
      "Fitting 3 folds for each of 12 candidates, totalling 36 fits\n"
     ]
    },
    {
     "name": "stderr",
     "output_type": "stream",
     "text": [
      "[Parallel(n_jobs=-1)]: Using backend LokyBackend with 12 concurrent workers.\n",
      "[Parallel(n_jobs=-1)]: Done  36 out of  36 | elapsed:   46.6s finished\n"
     ]
    },
    {
     "name": "stdout",
     "output_type": "stream",
     "text": [
      "The best estimator based on F1 is  RandomForestClassifier(bootstrap=True, class_weight=None, criterion='gini',\n",
      "                       max_depth=25, max_features='auto', max_leaf_nodes=None,\n",
      "                       min_impurity_decrease=0.0, min_impurity_split=None,\n",
      "                       min_samples_leaf=1, min_samples_split=2,\n",
      "                       min_weight_fraction_leaf=0.0, n_estimators=500,\n",
      "                       n_jobs=None, oob_score=False, random_state=None,\n",
      "                       verbose=0, warm_start=False)\n"
     ]
    }
   ],
   "source": [
    "#\n",
    "#\n",
    "#Che Forrest\n",
    "from sklearn.ensemble import RandomForestClassifier\n",
    "from sklearn.datasets import make_classification\n",
    "from sklearn.model_selection import KFold\n",
    "from sklearn.model_selection import GridSearchCV\n",
    "\n",
    "start = timeit.default_timer()\n",
    "\n",
    "svcEstimator = RandomForestClassifier()\n",
    "cv = 3\n",
    "\n",
    "#compare various values of C, kernels (rbf vs linear vs poly),decision_function_shape (ovo vs ovr)\n",
    "parameters = {'n_estimators': [100,250,500]\n",
    "            , 'max_depth': [5,25,50,100]}\n",
    "\n",
    "#Create a grid search object using the\n",
    "from sklearn.model_selection import GridSearchCV\n",
    "svcGridSearch = GridSearchCV(estimator=svcEstimator\n",
    "                   , n_jobs=-1 # jobs to run in parallel\n",
    "                   , verbose=1 # low verbosity\n",
    "                   , param_grid=parameters\n",
    "                   , cv=cv # KFolds = 3\n",
    "                   , scoring='accuracy')\n",
    "\n",
    "svcGridSearch.fit(X_train, y_train)\n",
    "print(\"The best estimator based on F1 is \", svcGridSearch.best_estimator_)\n",
    "best_rf = svcGridSearch.best_estimator_\n"
   ]
  },
  {
   "cell_type": "code",
   "execution_count": 49,
   "metadata": {},
   "outputs": [
    {
     "name": "stderr",
     "output_type": "stream",
     "text": [
      "No handles with labels found to put in legend.\n"
     ]
    },
    {
     "name": "stdout",
     "output_type": "stream",
     "text": [
      "Accuracy: 0.8437915856280069\n"
     ]
    },
    {
     "data": {
      "image/png": "[encoded data removed]",
      "text/plain": [
       "<Figure size 432x288 with 1 Axes>"
      ]
     },
     "metadata": {},
     "output_type": "display_data"
    }
   ],
   "source": [
    "#Create from best estimator search of random forest\n",
    "clf=best_rf\n",
    "\n",
    "#Train the model using the training sets y_pred=clf.predict(X_test)\n",
    "clf.fit(X_train,y_train)\n",
    "\n",
    "y_pred=clf.predict(X_test)\n",
    "\n",
    "stop = timeit.default_timer()\n",
    "t = stop - start\n",
    "\n",
    "#Import scikit-learn metrics module for accuracy calculation\n",
    "from sklearn import metrics\n",
    "# Model Accuracy, how often is the classifier correct?\n",
    "print(\"Accuracy:\",metrics.accuracy_score(y_test, y_pred))\n",
    "\n",
    "## This gives you the name of the features that are important according to the RFC\n",
    "feature_imp = pd.Series(clf.feature_importances_,index=new_headers).sort_values(ascending=False)\n",
    "top_feat = feature_imp.nlargest(n=8)\n",
    "\n",
    "# Creating a bar plot\n",
    "sns.barplot(x=top_feat, y=top_feat.index)\n",
    "# Add labels to your graph\n",
    "plt.xlabel('Feature Importance Score')\n",
    "plt.ylabel('Features')\n",
    "plt.title(\"Visualizing Important Features\")\n",
    "plt.legend()\n",
    "plt.show()\n"
   ]
  },
  {
   "cell_type": "code",
   "execution_count": 50,
   "metadata": {},
   "outputs": [
    {
     "name": "stdout",
     "output_type": "stream",
     "text": [
      "Normalized confusion matrix\n",
      "[[0.78029376 0.21970624]\n",
      " [0.12428857 0.87571143]]\n",
      "Random Forest : Accuracy score - 0.8437915856280069\n",
      "Random Forest : F1 score - 0.8818153655514251\n"
     ]
    },
    {
     "data": {
      "image/png": "[encoded data removed]",
      "text/plain": [
       "<Figure size 432x288 with 2 Axes>"
      ]
     },
     "metadata": {},
     "output_type": "display_data"
    }
   ],
   "source": [
    "\n",
    "plot_confusion_matrix(y_test, y_pred)\n",
    "print(f'Random Forest : Accuracy score - {metrics.accuracy_score(y_test, y_pred)}')\n",
    "print(f'Random Forest : F1 score - {metrics.f1_score(y_test, y_pred)}')\n",
    "\n",
    "performance.append({'algorithm':'Random ForestT2', \n",
    "    'accuracy':metrics.accuracy_score(y_test, y_pred),\n",
    "    'f1 score':metrics.f1_score(y_test,y_pred),\n",
    "    'observations' : len(y_test),\n",
    "    'run time' : t})\n"
   ]
  },
  {
   "cell_type": "markdown",
   "metadata": {},
   "source": [
    "\n",
    " To create this model, we first ran a grid search in parallel to tune the\n",
    " hyperparameters to optimal values. We then took the best model and delved\n",
    " deeper into it. This model boasts a very high accuracy, high F1 score, and a\n",
    " very low false negative (as well as very low false positive) rate. While\n",
    " improving accuracy, this model is highly computationally expensive. Therefore,\n",
    " this model would be used only in situations when accuracy is crucial. In\n",
    " situations in which we just want to find the best predictors, or just quickly\n",
    " get a decent model, any of the above models would suffice, however this model\n",
    " is extremely accurate, at the cost of relatively extreme computation time. The\n",
    " grid search is a powerful tool which can be used to tune models to perfection\n",
    " at a high computational cost\n",
    "\n",
    "\n",
    " <a id=\"modeling3_2_3\"></a> <a href=\"#top\">Back to Top</a>\n",
    " ### Naive Bayes\n",
    " The next model we will test is the naive bayes classifier.\n",
    " In our case, it is highly likely that the naive bayes classifier is a well performing model\n",
    " as a lot of our features can be assumed to be, in a perfect world, independent. However, some features may not be totally independent, as indicated\n",
    " in our previous analysis, there may be a relationship between some of the features and income. This may lead to some issues with the model.\n",
    " We will learn whether or not this is an issue or not in the next cell:\n"
   ]
  },
  {
   "cell_type": "code",
   "execution_count": 51,
   "metadata": {},
   "outputs": [
    {
     "name": "stdout",
     "output_type": "stream",
     "text": [
      "Normalized confusion matrix\n",
      "[[0.93298654 0.06701346]\n",
      " [0.23211814 0.76788186]]\n",
      "Naive Bayes : Accuracy: 0.8231139318251612\n",
      "Naive Bayes : F1 score 0.8524590163934428\n"
     ]
    },
    {
     "data": {
      "image/png": "[encoded data removed]",
      "text/plain": [
       "<Figure size 432x288 with 2 Axes>"
      ]
     },
     "metadata": {},
     "output_type": "display_data"
    }
   ],
   "source": [
    "from sklearn.naive_bayes import GaussianNB\n",
    "\n",
    "start = timeit.default_timer()\n",
    "\n",
    "model = GaussianNB()\n",
    "model.fit(X_train, y_train)\n",
    "pred_y = model.predict(X_test)\n",
    "\n",
    "stop = timeit.default_timer()\n",
    "t = stop - start\n",
    "\n",
    "plot_confusion_matrix(y_test,pred_y,normalize=True)\n",
    "print(\"Naive Bayes : Accuracy:\",metrics.accuracy_score(y_test, pred_y))\n",
    "\n",
    "print(\"Naive Bayes : F1 score\",metrics.f1_score(y_test, pred_y))\n",
    "\n",
    "performance.append({'algorithm':'Naive BayesT2', \n",
    "    'accuracy':metrics.accuracy_score(y_test, pred_y),\n",
    "    'f1 score':metrics.f1_score(y_test,pred_y),\n",
    "    'observations' : len(y_test),\n",
    "    'run time' : t})\n"
   ]
  },
  {
   "cell_type": "markdown",
   "metadata": {},
   "source": [
    " This model performed significantly better than the previous random forest in the fact of correctly identifying negatives, there were\n",
    " far fewer false positives. However, it performed much worse in the regard of identifying positives, with a much higher false negative rate. This\n",
    " again is likely due to some of the dependence between features.\n",
    "\n",
    "\n",
    " Next we will try out a stochastic gradient descent model:\n",
    "\n",
    " <a id=\"modeling3_2_4\"></a> <a href=\"#top\">Back to Top</a>\n",
    "\n",
    " ### Stochastic Gradient Descent\n",
    "\n",
    " Stochastic Gradient Desent is a relative of gradient desent algorithm.  Where\n",
    " GD follows a step by step process through each observation, SGD shuffles\n",
    " its observations randomly.  Introducing less bias into the model.  It is not visible here, for the sake of the grader\n",
    " who already has so much to read and look over, but we investigated the loss, max iter, and penalty parameters\n",
    " It was found that by using the elasticnet penalty, which provides a nice balance between the l1 and l2 penalties\n",
    " produced the best results. We tried several loss parameters, but it was found that the \"hinge\" loss,\n",
    " which causes the SGD to act similarly to a SVM, performs best. We also tried modified hinge, which is more accepting of outliers,\n",
    " perceptron, squared hinge, and log loss (which acts like logarithmic regression), but it was found that hinge loss\n",
    " gave us the best model performance:"
   ]
  },
  {
   "cell_type": "code",
   "execution_count": 52,
   "metadata": {},
   "outputs": [
    {
     "name": "stdout",
     "output_type": "stream",
     "text": [
      "Accuracy: 0.8367284266557478\n",
      "F1: 0.8706302214291508\n",
      "Normalized confusion matrix\n",
      "[[0.85893513 0.14106487]\n",
      " [0.1744347  0.8255653 ]]\n"
     ]
    },
    {
     "data": {
      "image/png": "[encoded data removed]",
      "text/plain": [
       "<Figure size 432x288 with 2 Axes>"
      ]
     },
     "metadata": {},
     "output_type": "display_data"
    }
   ],
   "source": [
    "from sklearn.linear_model import SGDClassifier\n",
    "\n",
    "start = timeit.default_timer()\n",
    "\n",
    "clf = SGDClassifier(loss = \"hinge\", penalty=\"elasticnet\", max_iter=5000, n_jobs = -1)\n",
    "clf.fit(X_train, y_train)\n",
    "y_pred = clf.predict(X_test)\n",
    "\n",
    "stop = timeit.default_timer()\n",
    "t = stop - start\n",
    "\n",
    "print(\"Accuracy:\",metrics.accuracy_score(y_test, y_pred))\n",
    "print(\"F1:\",metrics.f1_score(y_test, y_pred))\n",
    "\n",
    "plot_confusion_matrix(y_test,y_pred,normalize=True)\n",
    "\n",
    "performance.append({'algorithm':'SGD T2', \n",
    "    'accuracy':metrics.accuracy_score(y_test, y_pred),\n",
    "    'f1 score':metrics.f1_score(y_test,y_pred),\n",
    "    'observations' : len(y_test),\n",
    "    'run time' : t})\n",
    "\n"
   ]
  },
  {
   "cell_type": "markdown",
   "metadata": {},
   "source": [
    "\n",
    " This model performed moderately well, it had a good false negative rate, but a less than  stellar false positive rate. This model performed\n",
    " relatively quickly and gave decent results, however it is not quite in contention to be our final model."
   ]
  },
  {
   "cell_type": "markdown",
   "metadata": {},
   "source": [
    "\n",
    " <a id=\"modeling4\"></a> <a href=\"#top\">Back to Top</a>\n",
    " ### Section 4.4 Part 4:\n",
    "\n",
    " Analyze the results using your chosen method of evaluation. Use visualizations\n",
    " of the results to bolster the analysis. Explain any visuals and analyze why\n",
    " they are interesting to someone that might use this model.\n",
    "\n",
    " Below are the results from our various model runs over both tasks.  Judging\n",
    " from the intial results, it seems our Random forrests were the best performers\n",
    " on the accuracy side.  Yet the F1-score for Random ForestT1 was a bit lower.\n",
    " Because we widened our parameter search on the second random forest to a greater\n",
    " numer of estimators and a smaller minimum leaf node, it was able to yield a\n",
    " better accuracy due to increased tree creation.\n",
    "\n",
    "\n"
   ]
  },
  {
   "cell_type": "code",
   "execution_count": 53,
   "metadata": {},
   "outputs": [
    {
     "data": {
      "text/html": [
       "<div>\n",
       "<style scoped>\n",
       "    .dataframe tbody tr th:only-of-type {\n",
       "        vertical-align: middle;\n",
       "    }\n",
       "\n",
       "    .dataframe tbody tr th {\n",
       "        vertical-align: top;\n",
       "    }\n",
       "\n",
       "    .dataframe thead th {\n",
       "        text-align: right;\n",
       "    }\n",
       "</style>\n",
       "<table border=\"1\" class=\"dataframe\">\n",
       "  <thead>\n",
       "    <tr style=\"text-align: right;\">\n",
       "      <th></th>\n",
       "      <th>accuracy</th>\n",
       "      <th>algorithm</th>\n",
       "      <th>f1 score</th>\n",
       "      <th>observations</th>\n",
       "      <th>run time</th>\n",
       "    </tr>\n",
       "  </thead>\n",
       "  <tbody>\n",
       "    <tr>\n",
       "      <th>0</th>\n",
       "      <td>0.856280</td>\n",
       "      <td>LogisticRegressionT1</td>\n",
       "      <td>0.673943</td>\n",
       "      <td>9769</td>\n",
       "      <td>5.569277</td>\n",
       "    </tr>\n",
       "    <tr>\n",
       "      <th>1</th>\n",
       "      <td>0.865800</td>\n",
       "      <td>Random ForestT1</td>\n",
       "      <td>0.692037</td>\n",
       "      <td>9769</td>\n",
       "      <td>11.404309</td>\n",
       "    </tr>\n",
       "    <tr>\n",
       "      <th>2</th>\n",
       "      <td>0.833555</td>\n",
       "      <td>KNNT1</td>\n",
       "      <td>0.634935</td>\n",
       "      <td>9769</td>\n",
       "      <td>452.031705</td>\n",
       "    </tr>\n",
       "    <tr>\n",
       "      <th>3</th>\n",
       "      <td>0.841437</td>\n",
       "      <td>LogisticRegressionT2</td>\n",
       "      <td>0.878956</td>\n",
       "      <td>9769</td>\n",
       "      <td>3.919956</td>\n",
       "    </tr>\n",
       "    <tr>\n",
       "      <th>4</th>\n",
       "      <td>0.843792</td>\n",
       "      <td>Random ForestT2</td>\n",
       "      <td>0.881815</td>\n",
       "      <td>9769</td>\n",
       "      <td>118.509486</td>\n",
       "    </tr>\n",
       "    <tr>\n",
       "      <th>5</th>\n",
       "      <td>0.823114</td>\n",
       "      <td>Naive BayesT2</td>\n",
       "      <td>0.852459</td>\n",
       "      <td>9769</td>\n",
       "      <td>0.032109</td>\n",
       "    </tr>\n",
       "    <tr>\n",
       "      <th>6</th>\n",
       "      <td>0.836728</td>\n",
       "      <td>SGD T2</td>\n",
       "      <td>0.870630</td>\n",
       "      <td>9769</td>\n",
       "      <td>0.370234</td>\n",
       "    </tr>\n",
       "  </tbody>\n",
       "</table>\n",
       "</div>"
      ],
      "text/plain": [
       "   accuracy             algorithm  f1 score  observations    run time\n",
       "0  0.856280  LogisticRegressionT1  0.673943          9769    5.569277\n",
       "1  0.865800       Random ForestT1  0.692037          9769   11.404309\n",
       "2  0.833555                 KNNT1  0.634935          9769  452.031705\n",
       "3  0.841437  LogisticRegressionT2  0.878956          9769    3.919956\n",
       "4  0.843792       Random ForestT2  0.881815          9769  118.509486\n",
       "5  0.823114         Naive BayesT2  0.852459          9769    0.032109\n",
       "6  0.836728                SGD T2  0.870630          9769    0.370234"
      ]
     },
     "execution_count": 53,
     "metadata": {},
     "output_type": "execute_result"
    }
   ],
   "source": [
    "# Confidence interval\n",
    "tperf = pd.DataFrame(performance)\n",
    "tperf.round({'accuracy':5, 'f1 score':5})\n",
    "tperf\n",
    "\n",
    "# TODO - Insert accuracy chart here\n"
   ]
  },
  {
   "cell_type": "markdown",
   "metadata": {},
   "source": [
    "\n",
    " <a id=\"modeling5\"></a> <a href=\"#top\">Back to Top</a>\n",
    " ### Section 4.5 Part 5:\n",
    "\n",
    " Discuss the advantages of each model for each classification task, if any. If\n",
    " there are not advantages, explain why. Is any model better than another? Is\n",
    " the difference significant with 95% confidence? Use proper statistical\n",
    " comparison methods. You must use statistical comparison techniques—be sure\n",
    " they are appropriate for your chosen method of validation as discussed in unit\n",
    " 7 of the course.\n",
    "\n",
    " To compare our models, we'll first analyze the variance of each binomial\n",
    " proportion confidence interval.  Then, assuming a Gaussian Distribution, we\n",
    " can apply confidence intervals to the classification accuracy.  This will give\n",
    " us our confidence intervals for accuracy.\n"
   ]
  },
  {
   "cell_type": "code",
   "execution_count": 54,
   "metadata": {},
   "outputs": [
    {
     "data": {
      "text/html": [
       "<div>\n",
       "<style scoped>\n",
       "    .dataframe tbody tr th:only-of-type {\n",
       "        vertical-align: middle;\n",
       "    }\n",
       "\n",
       "    .dataframe tbody tr th {\n",
       "        vertical-align: top;\n",
       "    }\n",
       "\n",
       "    .dataframe thead th {\n",
       "        text-align: right;\n",
       "    }\n",
       "</style>\n",
       "<table border=\"1\" class=\"dataframe\">\n",
       "  <thead>\n",
       "    <tr style=\"text-align: right;\">\n",
       "      <th></th>\n",
       "      <th>accuracy</th>\n",
       "      <th>algorithm</th>\n",
       "      <th>f1 score</th>\n",
       "      <th>observations</th>\n",
       "      <th>run time</th>\n",
       "      <th>confint</th>\n",
       "      <th>upperinterval</th>\n",
       "      <th>lowerinterval</th>\n",
       "    </tr>\n",
       "  </thead>\n",
       "  <tbody>\n",
       "    <tr>\n",
       "      <th>0</th>\n",
       "      <td>0.856280</td>\n",
       "      <td>LogisticRegressionT1</td>\n",
       "      <td>0.673943</td>\n",
       "      <td>9769</td>\n",
       "      <td>5.569277</td>\n",
       "      <td>0.006957</td>\n",
       "      <td>0.863237</td>\n",
       "      <td>0.849323</td>\n",
       "    </tr>\n",
       "    <tr>\n",
       "      <th>1</th>\n",
       "      <td>0.865800</td>\n",
       "      <td>Random ForestT1</td>\n",
       "      <td>0.692037</td>\n",
       "      <td>9769</td>\n",
       "      <td>11.404309</td>\n",
       "      <td>0.006760</td>\n",
       "      <td>0.872560</td>\n",
       "      <td>0.859040</td>\n",
       "    </tr>\n",
       "    <tr>\n",
       "      <th>2</th>\n",
       "      <td>0.833555</td>\n",
       "      <td>KNNT1</td>\n",
       "      <td>0.634935</td>\n",
       "      <td>9769</td>\n",
       "      <td>452.031705</td>\n",
       "      <td>0.007386</td>\n",
       "      <td>0.840942</td>\n",
       "      <td>0.826169</td>\n",
       "    </tr>\n",
       "    <tr>\n",
       "      <th>3</th>\n",
       "      <td>0.841437</td>\n",
       "      <td>LogisticRegressionT2</td>\n",
       "      <td>0.878956</td>\n",
       "      <td>9769</td>\n",
       "      <td>3.919956</td>\n",
       "      <td>0.007243</td>\n",
       "      <td>0.848681</td>\n",
       "      <td>0.834194</td>\n",
       "    </tr>\n",
       "    <tr>\n",
       "      <th>4</th>\n",
       "      <td>0.843792</td>\n",
       "      <td>Random ForestT2</td>\n",
       "      <td>0.881815</td>\n",
       "      <td>9769</td>\n",
       "      <td>118.509486</td>\n",
       "      <td>0.007199</td>\n",
       "      <td>0.850991</td>\n",
       "      <td>0.836592</td>\n",
       "    </tr>\n",
       "    <tr>\n",
       "      <th>5</th>\n",
       "      <td>0.823114</td>\n",
       "      <td>Naive BayesT2</td>\n",
       "      <td>0.852459</td>\n",
       "      <td>9769</td>\n",
       "      <td>0.032109</td>\n",
       "      <td>0.007567</td>\n",
       "      <td>0.830681</td>\n",
       "      <td>0.815547</td>\n",
       "    </tr>\n",
       "    <tr>\n",
       "      <th>6</th>\n",
       "      <td>0.836728</td>\n",
       "      <td>SGD T2</td>\n",
       "      <td>0.870630</td>\n",
       "      <td>9769</td>\n",
       "      <td>0.370234</td>\n",
       "      <td>0.007330</td>\n",
       "      <td>0.844058</td>\n",
       "      <td>0.829399</td>\n",
       "    </tr>\n",
       "  </tbody>\n",
       "</table>\n",
       "</div>"
      ],
      "text/plain": [
       "   accuracy             algorithm  f1 score  observations    run time  \\\n",
       "0  0.856280  LogisticRegressionT1  0.673943          9769    5.569277   \n",
       "1  0.865800       Random ForestT1  0.692037          9769   11.404309   \n",
       "2  0.833555                 KNNT1  0.634935          9769  452.031705   \n",
       "3  0.841437  LogisticRegressionT2  0.878956          9769    3.919956   \n",
       "4  0.843792       Random ForestT2  0.881815          9769  118.509486   \n",
       "5  0.823114         Naive BayesT2  0.852459          9769    0.032109   \n",
       "6  0.836728                SGD T2  0.870630          9769    0.370234   \n",
       "\n",
       "    confint  upperinterval  lowerinterval  \n",
       "0  0.006957       0.863237       0.849323  \n",
       "1  0.006760       0.872560       0.859040  \n",
       "2  0.007386       0.840942       0.826169  \n",
       "3  0.007243       0.848681       0.834194  \n",
       "4  0.007199       0.850991       0.836592  \n",
       "5  0.007567       0.830681       0.815547  \n",
       "6  0.007330       0.844058       0.829399  "
      ]
     },
     "execution_count": 54,
     "metadata": {},
     "output_type": "execute_result"
    }
   ],
   "source": [
    "from math import sqrt\n",
    "tnew = tperf\n",
    "z = 1.96\n",
    "# tnew['confint'] = \"\"\n",
    "# tnew['upperinterval'] = float(0)\n",
    "# tnew['lowerinterval'] = float(0)\n",
    "\n",
    "for index_label, row_series in tnew.iterrows():\n",
    "   tnew.at[index_label , 'confint'] = z * sqrt((row_series['accuracy'] * (1-row_series['accuracy']))/ row_series['observations'])\n",
    "\n",
    "for index_label, row_series in tnew.iterrows():\n",
    "   tnew.at[index_label , 'upperinterval'] = row_series['accuracy'] + row_series['confint']\n",
    "   tnew.at[index_label , 'lowerinterval'] = row_series['accuracy'] - row_series['confint']\n",
    "\n",
    "tnew\n"
   ]
  },
  {
   "cell_type": "code",
   "execution_count": 55,
   "metadata": {},
   "outputs": [
    {
     "data": {
      "text/plain": [
       "accuracy         float64\n",
       "algorithm         object\n",
       "f1 score         float64\n",
       "observations       int64\n",
       "run time         float64\n",
       "confint          float64\n",
       "upperinterval    float64\n",
       "lowerinterval    float64\n",
       "dtype: object"
      ]
     },
     "execution_count": 55,
     "metadata": {},
     "output_type": "execute_result"
    }
   ],
   "source": [
    "tnew.dtypes"
   ]
  },
  {
   "cell_type": "markdown",
   "metadata": {},
   "source": [
    "\n",
    " All of our models came out with an accuracy of 82-87%.  The highest accuracy\n",
    " for Task 1 goes to random forestT1 with an accuracy of 87.2% (86.6%, 87.9%)\n",
    " Due to our extra hyperparameter tuning and grid search, this allowed for the\n",
    " greatest accuracy. Due to the fact none of its competing models lie with in\n",
    " the Random ForestT1's interval, we can reject the null hypothesis that they\n",
    " are the same and have 95% confidence that they are statistically different\n",
    " from the other models.\n",
    "\n",
    " For Task 2, our best model was Logistic RegressionT2 with a classification\n",
    " accuracy of 84.6% (83.9%, 85.3%).  Because the confidence intervals for our\n",
    " log regT2 model do overlap with the random forestT2 results, we can't say\n",
    " there is a difference between the two.  Which gives us the discretion to\n",
    " choose whichever model we feel is best.  As logistic regression took about 1\n",
    " second to run and the random forest was nearly 200x that, we would select the\n",
    " Log RegT2 function due to time and cost savings for anyone who wanted to\n",
    " deploy that model.\n",
    "\n",
    "\n",
    " <a id=\"modeling6\"></a> <a href=\"#top\">Back to Top</a>\n",
    " ### Section 4.6 Part 6:\n",
    "\n",
    " Which attributes from your analysis are most important? Use proper methods\n",
    " discussed in class to evaluate the importance of different attributes. Discuss\n",
    " the results and hypothesize about why certain attributes are more important\n",
    " than others for a given classification task.\n",
    "\n",
    " #### Task 1:  Classification of making > or <= 50k\n",
    "\n",
    " For the first task of predicting a persons income bracket, our analysis found\n",
    " that these were the top attributes contributing to the model.  Earlier in our\n",
    " analysis, We noticed the discrepency of married couple's having a better\n",
    " financial advantage over unmarried, so we're glad to see that attribute on top\n",
    " as it validates that hypothesis.  Capital gain is no surprise as those people\n",
    " who are generating alot of capital tend to make more money, as well as those\n",
    " with higher education levels.  Finally age and hours per week were slightly\n",
    " lower than that but still important variables to target.\n",
    "\n",
    "\n",
    "\n",
    " | Attribute             | Feature Importance |\n",
    " |-----------------------|--------------------|\n",
    " | x1_Married-civ-spouse | 0.283315           |\n",
    " | capital_gain          | 0.169864           |\n",
    " | education_num         | 0.168771           |\n",
    " | age                   | 0.097187           |\n",
    " | hours_per_week        | 0.054886           |\n",
    " | capital_loss          | 0.052305           |\n",
    " | x5_Husband            | 0.048574           |\n",
    " | x2_Exec-managerial    | 0.014513           |\n",
    " | x6_No Diploma         | 0.012112           |\n",
    " | x5_Wife               | 0.011441           |\n",
    " | x0_Private            | 0.007960           |\n",
    " #### Task 2: Classification of gender\n",
    "\n",
    " For the second task of predicting gender, we see some slightly more obvious\n",
    " results. The Husband and wife category are the biggest predictors as they\n",
    " themselves are an indicator of gender, but in today's modern gender\n",
    " definitions, this might not be as clear cut as 50 years ago.  Married, age,\n",
    " and hours_per_week would be next.  As these are also indicators of a single\n",
    " income family home where one parent may work and the other may not.  I'm not\n",
    " surprised to see adm-clerical as an important factor either as traditionally\n",
    " most administrative work falls under the female category. Craft-repair also\n",
    " falls into a sterotype of a female driven category so it too isn't suprising\n",
    " to see as a top influence.\n",
    "\n",
    " | Attribute             | Feature Importance |\n",
    " |-----------------------|--------------------|\n",
    " | x4_Husband            | 0.204476           |\n",
    " | X1_Married-civ-spouse | 0.087534           |\n",
    " | age                   | 0.086080           |\n",
    " | x4_Wife               | 0.086058           |\n",
    " | hours_per_week        | 0.072582           |\n",
    " | x4_Unmarried          | 0.048385           |\n",
    " | x2_Craft-repair       | 0.039049           |\n",
    " | x2_Adm-clerical       | 0.036414           |\n"
   ]
  },
  {
   "cell_type": "markdown",
   "metadata": {},
   "source": [
    "\n",
    " <a id=\"deployment\"></a> <a href=\"#top\">Back to Top</a>\n",
    " ### Section 4.7 Deployment:\n",
    "\n",
    " How useful is your model for interested parties (i.e., the companies or\n",
    " organizations that might want to use it for prediction)? How would you measure\n",
    " the model's value if it was used by these parties? How would your deploy your\n",
    " model for interested parties? What other data should be collected? How often\n",
    " would the model need to be updated, etc.?\n",
    "\n",
    "\n",
    " For our first task, targeting income, we forsee a multitude of possibilities\n",
    " for application. Whether it be for banks / credit card companies to improve\n",
    " their own models for how safe they feel lending a certain group of people\n",
    " money based on their financial circumstances.  It could also be applied for\n",
    " national survey's that people want to conduct.  Our model could help whittle\n",
    " down what factors they want to include in their updated model.  ie - which are\n",
    " the most significant variables and target those for analysis.  Another\n",
    " application could be for local governments, to help plan new schools, roads,\n",
    " child care and other facilities that benefit the population they reside in.\n",
    "\n",
    "\n",
    " For our second task, targeting gender, One area where this model may prove\n",
    " useful is in collecting user information from websites.  Given many websites\n",
    " have categorical descriptions of their user data, it someone was say, in the\n",
    " healthcare sector and was attempting to survey the general public on\n",
    " cardiovascular disease.   Some people may not feel inclined to report their\n",
    " gender, but that information could prove useful to the researcher in order to\n",
    " classify the person properly.  Using our classification technique's, we could\n",
    " retrofit the model over their survey data and begin to do prediction on that.\n",
    "\n",
    "\n",
    " Measuring the models value would be done through a consistent monitoring of\n",
    " the algorithms Accuracy and F1-score as we've done in this project.  Giving\n",
    " the end user the ability to keep tabs on how well the model is predicting, as\n",
    " we add more data to it.  Deployment of the model, could be through a rest API\n",
    " service, an internal function built in the backend of whatever database system\n",
    " they have in place.  In terms of other data that could be useful to Census\n",
    " Data, we would suggest finding a resource that can provide, housing ownership,\n",
    " local economic key performance factors, zip codes to determine talent pools\n",
    " for who lives in what area.  The possibilities are large depending on what\n",
    " factors influence the customers business most.  As each business you would\n",
    " sell this model too would likely have their own idea's behind what factors\n",
    " make them sucssesful.\n",
    "\n",
    "\n",
    "\n"
   ]
  },
  {
   "cell_type": "markdown",
   "metadata": {},
   "source": [
    "\n",
    " <a id=\"exceptional\"></a> <a href=\"#top\">Back to Top</a>\n",
    " ### Section 4.8 Exceptional Work:\n",
    "\n",
    " You have free reign to provide additional analyses. One idea: grid search\n",
    " parameters in a parallelized fashion and visualize the performances across\n",
    " attributes. Which parameters are most significant for making a good model for\n",
    " each classification algorithm?\n",
    "\n",
    "\n",
    " We implemented a grid search in both of our random forests.   Grid search\n",
    " itself is a parameter optimizing function that comes along with sklearn. It\n",
    " searches and implements a fit and score method.  Where each search is done by\n",
    " an array of parameters that you feed into it.  In ours, we varied the number\n",
    " of n_estimators and the max depth of the tree for Random ForestT2 model.  We\n",
    " increased our n_estimators to allow for more tree's in our forest.  We also\n",
    " set the max_depth to allow for greater depth in each tree and found the\n",
    " results to be more accurate without a drop off in F1-score as we saw in the\n",
    " Random ForestT1 model.  We also used a cross validation of 3 folds due to time\n",
    " savings when running the search. Its also a recommended value for larger\n",
    " datasets, which we have.\n"
   ]
  },
  {
   "cell_type": "code",
   "execution_count": 56,
   "metadata": {},
   "outputs": [
    {
     "name": "stdout",
     "output_type": "stream",
     "text": [
      "Fitting 3 folds for each of 12 candidates, totalling 36 fits\n"
     ]
    },
    {
     "name": "stderr",
     "output_type": "stream",
     "text": [
      "[Parallel(n_jobs=-1)]: Using backend LokyBackend with 12 concurrent workers.\n",
      "[Parallel(n_jobs=-1)]: Done  36 out of  36 | elapsed:   43.1s finished\n"
     ]
    },
    {
     "name": "stdout",
     "output_type": "stream",
     "text": [
      "The best estimator based on F1 is  RandomForestClassifier(bootstrap=True, class_weight=None, criterion='gini',\n",
      "                       max_depth=25, max_features='auto', max_leaf_nodes=None,\n",
      "                       min_impurity_decrease=0.0, min_impurity_split=None,\n",
      "                       min_samples_leaf=1, min_samples_split=2,\n",
      "                       min_weight_fraction_leaf=0.0, n_estimators=250,\n",
      "                       n_jobs=None, oob_score=False, random_state=None,\n",
      "                       verbose=0, warm_start=False)\n"
     ]
    }
   ],
   "source": [
    " svcEstimator = RandomForestClassifier()\n",
    " cv = 3\n",
    " #compare various values of C, kernels (rbf vs linear vs poly),decision_function_shape (ovo vs ovr)\n",
    " parameters = {'n_estimators': [100,250,500]\n",
    "             , 'max_depth': [5,25,50,100]}\n",
    " #Create a grid search object using the\n",
    " from sklearn.model_selection import GridSearchCV\n",
    " svcGridSearch = GridSearchCV(estimator=svcEstimator\n",
    "                    , n_jobs=-1 # jobs to run in parallel\n",
    "                    , verbose=1 # low verbosity\n",
    "                    , param_grid=parameters\n",
    "                    , cv=cv # KFolds = 3\n",
    "                    , scoring='accuracy')\n",
    " svcGridSearch.fit(X_train, y_train)\n",
    " print(\"The best estimator based on F1 is \", svcGridSearch.best_estimator_)\n",
    " best_rf = svcGridSearch.best_estimator_"
   ]
  },
  {
   "cell_type": "code",
   "execution_count": null,
   "metadata": {},
   "outputs": [],
   "source": []
  }
 ],
 "metadata": {
  "file_extension": ".py",
  "kernelspec": {
   "display_name": "Python 3",
   "language": "python",
   "name": "python3"
  },
  "language_info": {
   "codemirror_mode": {
    "name": "ipython",
    "version": 3
   },
   "file_extension": ".py",
   "mimetype": "text/x-python",
   "name": "python",
   "nbconvert_exporter": "python",
   "pygments_lexer": "ipython3",
   "version": "3.7.3"
  },
  "mimetype": "text/x-python",
  "name": "python",
  "npconvert_exporter": "python",
  "pygments_lexer": "ipython3",
  "version": 3
 },
 "nbformat": 4,
 "nbformat_minor": 2
}
